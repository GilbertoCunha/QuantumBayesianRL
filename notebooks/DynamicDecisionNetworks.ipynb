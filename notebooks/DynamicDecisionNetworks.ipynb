{
 "cells": [
  {
   "cell_type": "code",
   "execution_count": 1,
   "id": "2e9b025b-739e-45e8-8d42-189213e5dade",
   "metadata": {},
   "outputs": [],
   "source": [
    "%config InlineBackend.figure_format = \"svg\"\n",
    "\n",
    "import sys\n",
    "sys.path.append(\"../\")\n",
    "\n",
    "from src.rl_algorithms.pomdp_lookahead import build_tree, pomdp_lookahead\n",
    "from src.networks.ddn import DynamicDecisionNetwork as DDN\n",
    "from src.networks.nodes import DiscreteNode\n",
    "from src.trees.tree import Tree\n",
    "from tqdm import tqdm"
   ]
  },
  {
   "cell_type": "markdown",
   "id": "07d7bb80-8fc7-4949-b185-999d7fa76b50",
   "metadata": {},
   "source": [
    "# Creating a dynamic decision network"
   ]
  },
  {
   "cell_type": "markdown",
   "id": "c5ea3d48-1c89-4f0a-806d-a93de15fd56a",
   "metadata": {},
   "source": [
    "## Example: Tiger problem"
   ]
  },
  {
   "cell_type": "markdown",
   "id": "7f93789b-4842-4a17-9a97-d8450f16d3db",
   "metadata": {},
   "source": [
    "### Constructing the Dynamic Decision Network"
   ]
  },
  {
   "cell_type": "code",
   "execution_count": 2,
   "id": "f4135be6-a737-4fa7-9779-bbc60cf97de6",
   "metadata": {},
   "outputs": [
    {
     "data": {
      "image/svg+xml": "<?xml version=\"1.0\" encoding=\"utf-8\" standalone=\"no\"?>\n<!DOCTYPE svg PUBLIC \"-//W3C//DTD SVG 1.1//EN\"\n  \"http://www.w3.org/Graphics/SVG/1.1/DTD/svg11.dtd\">\n<svg height=\"231.84pt\" version=\"1.1\" viewBox=\"0 0 349.2 231.84\" width=\"349.2pt\" xmlns=\"http://www.w3.org/2000/svg\" xmlns:xlink=\"http://www.w3.org/1999/xlink\">\n <metadata>\n  <rdf:RDF xmlns:cc=\"http://creativecommons.org/ns#\" xmlns:dc=\"http://purl.org/dc/elements/1.1/\" xmlns:rdf=\"http://www.w3.org/1999/02/22-rdf-syntax-ns#\">\n   <cc:Work>\n    <dc:type rdf:resource=\"http://purl.org/dc/dcmitype/StillImage\"/>\n    <dc:date>2022-07-30T12:41:29.062290</dc:date>\n    <dc:format>image/svg+xml</dc:format>\n    <dc:creator>\n     <cc:Agent>\n      <dc:title>Matplotlib v3.4.3, https://matplotlib.org/</dc:title>\n     </cc:Agent>\n    </dc:creator>\n   </cc:Work>\n  </rdf:RDF>\n </metadata>\n <defs>\n  <style type=\"text/css\">*{stroke-linecap:butt;stroke-linejoin:round;}</style>\n </defs>\n <g id=\"figure_1\">\n  <g id=\"patch_1\">\n   <path d=\"M 0 231.84 \nL 349.2 231.84 \nL 349.2 0 \nL 0 0 \nz\n\" style=\"fill:none;\"/>\n  </g>\n  <g id=\"axes_1\">\n   <g id=\"patch_2\">\n    <path d=\"M 7.2 224.64 \nL 342 224.64 \nL 342 7.2 \nL 7.2 7.2 \nz\n\" style=\"fill:#ffffff;\"/>\n   </g>\n   <g id=\"patch_3\">\n    <path clip-path=\"url(#p480fb45c85)\" d=\"M 303.03705 51.599915 \nQ 295.50864 70.995263 289.193919 87.263798 \n\" style=\"fill:none;stroke:#000000;stroke-linecap:round;stroke-width:3;\"/>\n    <path clip-path=\"url(#p480fb45c85)\" d=\"M 293.168175 83.657514 \nL 289.193919 87.263798 \nL 288.693445 81.920623 \nL 293.168175 83.657514 \nz\n\" style=\"stroke:#000000;stroke-linecap:round;stroke-width:3;\"/>\n   </g>\n   <g id=\"patch_4\">\n    <path clip-path=\"url(#p480fb45c85)\" d=\"M 276.655287 143.271871 \nQ 275.745656 160.847911 275.009381 175.074332 \n\" style=\"fill:none;stroke:#000000;stroke-linecap:round;stroke-width:3;\"/>\n    <path clip-path=\"url(#p480fb45c85)\" d=\"M 277.65426 170.404792 \nL 275.009381 175.074332 \nL 272.860676 170.156704 \nL 277.65426 170.404792 \nz\n\" style=\"stroke:#000000;stroke-linecap:round;stroke-width:3;\"/>\n   </g>\n   <g id=\"patch_5\">\n    <path clip-path=\"url(#p480fb45c85)\" d=\"M 252.400576 125.458194 \nQ 157.161492 160.845762 65.066488 195.065098 \n\" style=\"fill:none;stroke:#000000;stroke-linecap:round;stroke-width:3;\"/>\n    <path clip-path=\"url(#p480fb45c85)\" d=\"M 70.401847 195.642981 \nL 65.066488 195.065098 \nL 68.73001 191.143541 \nL 70.401847 195.642981 \nz\n\" style=\"stroke:#000000;stroke-linecap:round;stroke-width:3;\"/>\n   </g>\n   <g id=\"patch_6\">\n    <path clip-path=\"url(#p480fb45c85)\" d=\"M 107.637002 37.515416 \nQ 180.413891 70.994924 250.143646 103.072661 \n\" style=\"fill:none;stroke:#000000;stroke-linecap:round;stroke-width:3;\"/>\n    <path clip-path=\"url(#p480fb45c85)\" d=\"M 246.785966 98.886256 \nL 250.143646 103.072661 \nL 244.779914 103.246961 \nL 246.785966 98.886256 \nz\n\" style=\"stroke:#000000;stroke-linecap:round;stroke-width:3;\"/>\n   </g>\n   <g id=\"patch_7\">\n    <path clip-path=\"url(#p480fb45c85)\" d=\"M 75.893832 52.581567 \nQ 59.503595 115.920504 43.953624 176.012295 \n\" style=\"fill:none;stroke:#000000;stroke-linecap:round;stroke-width:3;\"/>\n    <path clip-path=\"url(#p480fb45c85)\" d=\"M 47.479581 171.966603 \nL 43.953624 176.012295 \nL 42.832645 170.764114 \nL 47.479581 171.966603 \nz\n\" style=\"stroke:#000000;stroke-linecap:round;stroke-width:3;\"/>\n   </g>\n   <g id=\"patch_8\">\n    <path clip-path=\"url(#p480fb45c85)\" d=\"M 102.686408 44.854492 \nQ 178.089968 115.922209 251.052682 184.689432 \n\" style=\"fill:none;stroke:#000000;stroke-linecap:round;stroke-width:3;\"/>\n    <path clip-path=\"url(#p480fb45c85)\" d=\"M 249.205726 179.650707 \nL 251.052682 184.689432 \nL 245.913528 183.143762 \nL 249.205726 179.650707 \nz\n\" style=\"stroke:#000000;stroke-linecap:round;stroke-width:3;\"/>\n   </g>\n   <g id=\"matplotlib.axis_1\">\n    <g id=\"xtick_1\"/>\n    <g id=\"xtick_2\"/>\n    <g id=\"xtick_3\"/>\n    <g id=\"xtick_4\"/>\n    <g id=\"xtick_5\"/>\n    <g id=\"xtick_6\"/>\n    <g id=\"xtick_7\"/>\n   </g>\n   <g id=\"matplotlib.axis_2\">\n    <g id=\"ytick_1\"/>\n    <g id=\"ytick_2\"/>\n    <g id=\"ytick_3\"/>\n    <g id=\"ytick_4\"/>\n    <g id=\"ytick_5\"/>\n    <g id=\"ytick_6\"/>\n    <g id=\"ytick_7\"/>\n    <g id=\"ytick_8\"/>\n   </g>\n   <g id=\"PathCollection_1\">\n    <defs>\n     <path d=\"M 0 27.386128 \nC 7.262886 27.386128 14.229281 24.500553 19.364917 19.364917 \nC 24.500553 14.229281 27.386128 7.262886 27.386128 0 \nC 27.386128 -7.262886 24.500553 -14.229281 19.364917 -19.364917 \nC 14.229281 -24.500553 7.262886 -27.386128 0 -27.386128 \nC -7.262886 -27.386128 -14.229281 -24.500553 -19.364917 -19.364917 \nC -24.500553 -14.229281 -27.386128 -7.262886 -27.386128 0 \nC -27.386128 7.262886 -24.500553 14.229281 -19.364917 19.364917 \nC -14.229281 24.500553 -7.262886 27.386128 0 27.386128 \nz\n\" id=\"mc774824700\" style=\"stroke:#ffa500;\"/>\n    </defs>\n    <g clip-path=\"url(#p480fb45c85)\">\n     <use style=\"fill:#ffa500;stroke:#ffa500;\" x=\"312.947107\" xlink:href=\"#mc774824700\" y=\"26.06876\"/>\n     <use style=\"fill:#ffa500;stroke:#ffa500;\" x=\"278.070858\" xlink:href=\"#mc774824700\" y=\"115.92\"/>\n     <use style=\"fill:#ffa500;stroke:#ffa500;\" x=\"273.420691\" xlink:href=\"#mc774824700\" y=\"205.77124\"/>\n     <use style=\"fill:#ffa500;stroke:#ffa500;\" x=\"36.252893\" xlink:href=\"#mc774824700\" y=\"205.77124\"/>\n     <use style=\"fill:#ffa500;stroke:#ffa500;\" x=\"82.754559\" xlink:href=\"#mc774824700\" y=\"26.06876\"/>\n    </g>\n   </g>\n   <g id=\"patch_9\">\n    <path d=\"M 7.2 224.64 \nL 7.2 7.2 \n\" style=\"fill:none;stroke:#000000;stroke-linecap:square;stroke-linejoin:miter;stroke-width:0.8;\"/>\n   </g>\n   <g id=\"patch_10\">\n    <path d=\"M 342 224.64 \nL 342 7.2 \n\" style=\"fill:none;stroke:#000000;stroke-linecap:square;stroke-linejoin:miter;stroke-width:0.8;\"/>\n   </g>\n   <g id=\"patch_11\">\n    <path d=\"M 7.2 224.64 \nL 342 224.64 \n\" style=\"fill:none;stroke:#000000;stroke-linecap:square;stroke-linejoin:miter;stroke-width:0.8;\"/>\n   </g>\n   <g id=\"patch_12\">\n    <path d=\"M 7.2 7.2 \nL 342 7.2 \n\" style=\"fill:none;stroke:#000000;stroke-linecap:square;stroke-linejoin:miter;stroke-width:0.8;\"/>\n   </g>\n   <g id=\"text_1\">\n    <g clip-path=\"url(#p480fb45c85)\">\n     <!-- ('S', 0) -->\n     <g transform=\"translate(293.526795 29.38001)scale(0.12 -0.12)\">\n      <defs>\n       <path d=\"M 1984 4856 \nQ 1566 4138 1362 3434 \nQ 1159 2731 1159 2009 \nQ 1159 1288 1364 580 \nQ 1569 -128 1984 -844 \nL 1484 -844 \nQ 1016 -109 783 600 \nQ 550 1309 550 2009 \nQ 550 2706 781 3412 \nQ 1013 4119 1484 4856 \nL 1984 4856 \nz\n\" id=\"DejaVuSans-28\" transform=\"scale(0.015625)\"/>\n       <path d=\"M 1147 4666 \nL 1147 2931 \nL 616 2931 \nL 616 4666 \nL 1147 4666 \nz\n\" id=\"DejaVuSans-27\" transform=\"scale(0.015625)\"/>\n       <path d=\"M 3425 4513 \nL 3425 3897 \nQ 3066 4069 2747 4153 \nQ 2428 4238 2131 4238 \nQ 1616 4238 1336 4038 \nQ 1056 3838 1056 3469 \nQ 1056 3159 1242 3001 \nQ 1428 2844 1947 2747 \nL 2328 2669 \nQ 3034 2534 3370 2195 \nQ 3706 1856 3706 1288 \nQ 3706 609 3251 259 \nQ 2797 -91 1919 -91 \nQ 1588 -91 1214 -16 \nQ 841 59 441 206 \nL 441 856 \nQ 825 641 1194 531 \nQ 1563 422 1919 422 \nQ 2459 422 2753 634 \nQ 3047 847 3047 1241 \nQ 3047 1584 2836 1778 \nQ 2625 1972 2144 2069 \nL 1759 2144 \nQ 1053 2284 737 2584 \nQ 422 2884 422 3419 \nQ 422 4038 858 4394 \nQ 1294 4750 2059 4750 \nQ 2388 4750 2728 4690 \nQ 3069 4631 3425 4513 \nz\n\" id=\"DejaVuSans-53\" transform=\"scale(0.015625)\"/>\n       <path d=\"M 750 794 \nL 1409 794 \nL 1409 256 \nL 897 -744 \nL 494 -744 \nL 750 256 \nL 750 794 \nz\n\" id=\"DejaVuSans-2c\" transform=\"scale(0.015625)\"/>\n       <path id=\"DejaVuSans-20\" transform=\"scale(0.015625)\"/>\n       <path d=\"M 2034 4250 \nQ 1547 4250 1301 3770 \nQ 1056 3291 1056 2328 \nQ 1056 1369 1301 889 \nQ 1547 409 2034 409 \nQ 2525 409 2770 889 \nQ 3016 1369 3016 2328 \nQ 3016 3291 2770 3770 \nQ 2525 4250 2034 4250 \nz\nM 2034 4750 \nQ 2819 4750 3233 4129 \nQ 3647 3509 3647 2328 \nQ 3647 1150 3233 529 \nQ 2819 -91 2034 -91 \nQ 1250 -91 836 529 \nQ 422 1150 422 2328 \nQ 422 3509 836 4129 \nQ 1250 4750 2034 4750 \nz\n\" id=\"DejaVuSans-30\" transform=\"scale(0.015625)\"/>\n       <path d=\"M 513 4856 \nL 1013 4856 \nQ 1481 4119 1714 3412 \nQ 1947 2706 1947 2009 \nQ 1947 1309 1714 600 \nQ 1481 -109 1013 -844 \nL 513 -844 \nQ 928 -128 1133 580 \nQ 1338 1288 1338 2009 \nQ 1338 2731 1133 3434 \nQ 928 4138 513 4856 \nz\n\" id=\"DejaVuSans-29\" transform=\"scale(0.015625)\"/>\n      </defs>\n      <use xlink:href=\"#DejaVuSans-28\"/>\n      <use x=\"39.013672\" xlink:href=\"#DejaVuSans-27\"/>\n      <use x=\"66.503906\" xlink:href=\"#DejaVuSans-53\"/>\n      <use x=\"129.980469\" xlink:href=\"#DejaVuSans-27\"/>\n      <use x=\"157.470703\" xlink:href=\"#DejaVuSans-2c\"/>\n      <use x=\"189.257812\" xlink:href=\"#DejaVuSans-20\"/>\n      <use x=\"221.044922\" xlink:href=\"#DejaVuSans-30\"/>\n      <use x=\"284.667969\" xlink:href=\"#DejaVuSans-29\"/>\n     </g>\n    </g>\n   </g>\n   <g id=\"text_2\">\n    <g clip-path=\"url(#p480fb45c85)\">\n     <!-- ('S', 1) -->\n     <g transform=\"translate(258.650545 119.23125)scale(0.12 -0.12)\">\n      <defs>\n       <path d=\"M 794 531 \nL 1825 531 \nL 1825 4091 \nL 703 3866 \nL 703 4441 \nL 1819 4666 \nL 2450 4666 \nL 2450 531 \nL 3481 531 \nL 3481 0 \nL 794 0 \nL 794 531 \nz\n\" id=\"DejaVuSans-31\" transform=\"scale(0.015625)\"/>\n      </defs>\n      <use xlink:href=\"#DejaVuSans-28\"/>\n      <use x=\"39.013672\" xlink:href=\"#DejaVuSans-27\"/>\n      <use x=\"66.503906\" xlink:href=\"#DejaVuSans-53\"/>\n      <use x=\"129.980469\" xlink:href=\"#DejaVuSans-27\"/>\n      <use x=\"157.470703\" xlink:href=\"#DejaVuSans-2c\"/>\n      <use x=\"189.257812\" xlink:href=\"#DejaVuSans-20\"/>\n      <use x=\"221.044922\" xlink:href=\"#DejaVuSans-31\"/>\n      <use x=\"284.667969\" xlink:href=\"#DejaVuSans-29\"/>\n     </g>\n    </g>\n   </g>\n   <g id=\"text_3\">\n    <g clip-path=\"url(#p480fb45c85)\">\n     <!-- ('O', 1) -->\n     <g transform=\"translate(253.086316 209.08249)scale(0.12 -0.12)\">\n      <defs>\n       <path d=\"M 2522 4238 \nQ 1834 4238 1429 3725 \nQ 1025 3213 1025 2328 \nQ 1025 1447 1429 934 \nQ 1834 422 2522 422 \nQ 3209 422 3611 934 \nQ 4013 1447 4013 2328 \nQ 4013 3213 3611 3725 \nQ 3209 4238 2522 4238 \nz\nM 2522 4750 \nQ 3503 4750 4090 4092 \nQ 4678 3434 4678 2328 \nQ 4678 1225 4090 567 \nQ 3503 -91 2522 -91 \nQ 1538 -91 948 565 \nQ 359 1222 359 2328 \nQ 359 3434 948 4092 \nQ 1538 4750 2522 4750 \nz\n\" id=\"DejaVuSans-4f\" transform=\"scale(0.015625)\"/>\n      </defs>\n      <use xlink:href=\"#DejaVuSans-28\"/>\n      <use x=\"39.013672\" xlink:href=\"#DejaVuSans-27\"/>\n      <use x=\"66.503906\" xlink:href=\"#DejaVuSans-4f\"/>\n      <use x=\"145.214844\" xlink:href=\"#DejaVuSans-27\"/>\n      <use x=\"172.705078\" xlink:href=\"#DejaVuSans-2c\"/>\n      <use x=\"204.492188\" xlink:href=\"#DejaVuSans-20\"/>\n      <use x=\"236.279297\" xlink:href=\"#DejaVuSans-31\"/>\n      <use x=\"299.902344\" xlink:href=\"#DejaVuSans-29\"/>\n     </g>\n    </g>\n   </g>\n   <g id=\"text_4\">\n    <g clip-path=\"url(#p480fb45c85)\">\n     <!-- ('R', 1) -->\n     <g transform=\"translate(16.47258 209.08249)scale(0.12 -0.12)\">\n      <defs>\n       <path d=\"M 2841 2188 \nQ 3044 2119 3236 1894 \nQ 3428 1669 3622 1275 \nL 4263 0 \nL 3584 0 \nL 2988 1197 \nQ 2756 1666 2539 1819 \nQ 2322 1972 1947 1972 \nL 1259 1972 \nL 1259 0 \nL 628 0 \nL 628 4666 \nL 2053 4666 \nQ 2853 4666 3247 4331 \nQ 3641 3997 3641 3322 \nQ 3641 2881 3436 2590 \nQ 3231 2300 2841 2188 \nz\nM 1259 4147 \nL 1259 2491 \nL 2053 2491 \nQ 2509 2491 2742 2702 \nQ 2975 2913 2975 3322 \nQ 2975 3731 2742 3939 \nQ 2509 4147 2053 4147 \nL 1259 4147 \nz\n\" id=\"DejaVuSans-52\" transform=\"scale(0.015625)\"/>\n      </defs>\n      <use xlink:href=\"#DejaVuSans-28\"/>\n      <use x=\"39.013672\" xlink:href=\"#DejaVuSans-27\"/>\n      <use x=\"66.503906\" xlink:href=\"#DejaVuSans-52\"/>\n      <use x=\"135.986328\" xlink:href=\"#DejaVuSans-27\"/>\n      <use x=\"163.476562\" xlink:href=\"#DejaVuSans-2c\"/>\n      <use x=\"195.263672\" xlink:href=\"#DejaVuSans-20\"/>\n      <use x=\"227.050781\" xlink:href=\"#DejaVuSans-31\"/>\n      <use x=\"290.673828\" xlink:href=\"#DejaVuSans-29\"/>\n     </g>\n    </g>\n   </g>\n   <g id=\"text_5\">\n    <g clip-path=\"url(#p480fb45c85)\">\n     <!-- ('A', 0) -->\n     <g transform=\"translate(63.038934 29.38001)scale(0.12 -0.12)\">\n      <defs>\n       <path d=\"M 2188 4044 \nL 1331 1722 \nL 3047 1722 \nL 2188 4044 \nz\nM 1831 4666 \nL 2547 4666 \nL 4325 0 \nL 3669 0 \nL 3244 1197 \nL 1141 1197 \nL 716 0 \nL 50 0 \nL 1831 4666 \nz\n\" id=\"DejaVuSans-41\" transform=\"scale(0.015625)\"/>\n      </defs>\n      <use xlink:href=\"#DejaVuSans-28\"/>\n      <use x=\"39.013672\" xlink:href=\"#DejaVuSans-27\"/>\n      <use x=\"66.503906\" xlink:href=\"#DejaVuSans-41\"/>\n      <use x=\"134.912109\" xlink:href=\"#DejaVuSans-27\"/>\n      <use x=\"162.402344\" xlink:href=\"#DejaVuSans-2c\"/>\n      <use x=\"194.189453\" xlink:href=\"#DejaVuSans-20\"/>\n      <use x=\"225.976562\" xlink:href=\"#DejaVuSans-30\"/>\n      <use x=\"289.599609\" xlink:href=\"#DejaVuSans-29\"/>\n     </g>\n    </g>\n   </g>\n  </g>\n </g>\n <defs>\n  <clipPath id=\"p480fb45c85\">\n   <rect height=\"217.44\" width=\"334.8\" x=\"7.2\" y=\"7.2\"/>\n  </clipPath>\n </defs>\n</svg>\n",
      "text/plain": [
       "<Figure size 432x288 with 1 Axes>"
      ]
     },
     "metadata": {},
     "output_type": "display_data"
    }
   ],
   "source": [
    "# Create nodes\n",
    "s0 = DiscreteNode((\"S\", 0), node_type=DDN.state_type, value_space=[0, 1])\n",
    "a0 = DiscreteNode((\"A\", 0), node_type=DDN.action_type, value_space=[0, 1, 2])\n",
    "s1 = DiscreteNode((\"S\", 1), node_type=DDN.state_type, value_space=[0, 1])\n",
    "o1 = DiscreteNode((\"O\", 1), node_type=DDN.observation_type, value_space=[0, 1])\n",
    "r1 = DiscreteNode((\"R\", 1), node_type=DDN.reward_type, value_space=[-100, -1, 10])\n",
    "\n",
    "# Discount factor of the POMDP\n",
    "discount = 0.8\n",
    "\n",
    "# Create the DDN structure\n",
    "ddn = DDN(discount=discount)\n",
    "ddn.add_nodes([s0, s1, o1, r1, a0])\n",
    "ddn.add_edges([\n",
    "    ((\"S\", 0), (\"S\", 1)), \n",
    "    ((\"A\", 0), (\"S\", 1)), \n",
    "    ((\"A\", 0), (\"R\", 1)), \n",
    "    ((\"A\", 0), (\"O\", 1)), \n",
    "    ((\"S\", 1), (\"O\", 1)), \n",
    "    ((\"S\", 1), (\"R\", 1)) \n",
    "])\n",
    "ddn.draw()"
   ]
  },
  {
   "cell_type": "markdown",
   "id": "30c4be75-1c6b-4e9a-984b-c900a0f8e1c1",
   "metadata": {},
   "source": [
    "### Adding CPT data to the DDN"
   ]
  },
  {
   "cell_type": "code",
   "execution_count": 3,
   "id": "89560ba3-96c9-4968-a1fc-b19580859241",
   "metadata": {},
   "outputs": [],
   "source": [
    "# Add data for node State 0\n",
    "data = {\n",
    "    (\"S\", 0): [0,1], \n",
    "    \"Prob\": [0.5,0.5]\n",
    "}\n",
    "ddn.add_pt((\"S\", 0), data)\n",
    "\n",
    "# Add data for node State 1\n",
    "data = {\n",
    "    (\"S\", 0): [0,0,0,0,0,0,1,1,1,1,1,1], \n",
    "    (\"A\", 0): [0,0,1,1,2,2,0,0,1,1,2,2], \n",
    "    (\"S\", 1): [0,1,0,1,0,1,0,1,0,1,0,1], \n",
    "    \"Prob\": [1,0,0.5,0.5,0.5,0.5,0,1,0.5,0.5,0.5,0.5]\n",
    "}\n",
    "ddn.add_pt((\"S\", 1), data)\n",
    "\n",
    "# Add data for node Evidence\n",
    "data = {\n",
    "    (\"A\", 0): [0,0,0,0,1,1,1,1,2,2,2,2], \n",
    "    (\"S\", 1): [0,0,1,1,0,0,1,1,0,0,1,1], \n",
    "    (\"O\", 1): [0,1,0,1,0,1,0,1,0,1,0,1], \n",
    "    \"Prob\": [0.85,0.15,0.15,0.85,0.5,0.5,0.5,0.5,0.5,0.5,0.5,0.5]\n",
    "}\n",
    "ddn.add_pt((\"O\", 1), data)\n",
    "\n",
    "# Add data for node Reward\n",
    "data = {\n",
    "    (\"A\", 0): [0,0,0,0,0,0,1,1,1,1,1,1,2,2,2,2,2,2], \n",
    "    (\"S\", 1): [0,0,0,1,1,1,0,0,0,1,1,1,0,0,0,1,1,1], \n",
    "    (\"R\", 1): [-100,-1,10,-100,-1,10,-100,-1,10,-100,-1,10,-100,-1,10,-100,-1,10], \n",
    "    \"Prob\": [0,1,0,0,1,0,1,0,0,0,0,1,0,0,1,1,0,0]\n",
    "}\n",
    "ddn.add_pt((\"R\", 1), data)\n",
    "\n",
    "# Initialize ddn\n",
    "ddn.initialize()"
   ]
  },
  {
   "cell_type": "markdown",
   "id": "ce76fc81",
   "metadata": {},
   "source": [
    "### Robot search problem"
   ]
  },
  {
   "cell_type": "code",
   "execution_count": 23,
   "id": "93ce765e",
   "metadata": {},
   "outputs": [
    {
     "data": {
      "image/svg+xml": "<?xml version=\"1.0\" encoding=\"utf-8\" standalone=\"no\"?>\n<!DOCTYPE svg PUBLIC \"-//W3C//DTD SVG 1.1//EN\"\n  \"http://www.w3.org/Graphics/SVG/1.1/DTD/svg11.dtd\">\n<svg height=\"231.84pt\" version=\"1.1\" viewBox=\"0 0 349.2 231.84\" width=\"349.2pt\" xmlns=\"http://www.w3.org/2000/svg\" xmlns:xlink=\"http://www.w3.org/1999/xlink\">\n <metadata>\n  <rdf:RDF xmlns:cc=\"http://creativecommons.org/ns#\" xmlns:dc=\"http://purl.org/dc/elements/1.1/\" xmlns:rdf=\"http://www.w3.org/1999/02/22-rdf-syntax-ns#\">\n   <cc:Work>\n    <dc:type rdf:resource=\"http://purl.org/dc/dcmitype/StillImage\"/>\n    <dc:date>2022-07-30T12:54:01.657012</dc:date>\n    <dc:format>image/svg+xml</dc:format>\n    <dc:creator>\n     <cc:Agent>\n      <dc:title>Matplotlib v3.4.3, https://matplotlib.org/</dc:title>\n     </cc:Agent>\n    </dc:creator>\n   </cc:Work>\n  </rdf:RDF>\n </metadata>\n <defs>\n  <style type=\"text/css\">*{stroke-linecap:butt;stroke-linejoin:round;}</style>\n </defs>\n <g id=\"figure_1\">\n  <g id=\"patch_1\">\n   <path d=\"M 0 231.84 \nL 349.2 231.84 \nL 349.2 0 \nL 0 0 \nz\n\" style=\"fill:none;\"/>\n  </g>\n  <g id=\"axes_1\">\n   <g id=\"patch_2\">\n    <path d=\"M 7.2 224.64 \nL 342 224.64 \nL 342 7.2 \nL 7.2 7.2 \nz\n\" style=\"fill:#ffffff;\"/>\n   </g>\n   <g id=\"patch_3\">\n    <path clip-path=\"url(#pfcb1645823)\" d=\"M 61.74811 41.300805 \nQ 106.108472 70.994317 147.681535 98.822093 \n\" style=\"fill:none;stroke:#000000;stroke-linecap:round;stroke-width:3;\"/>\n    <path clip-path=\"url(#pfcb1645823)\" d=\"M 145.027689 94.157642 \nL 147.681535 98.822093 \nL 142.357666 98.146499 \nL 145.027689 94.157642 \nz\n\" style=\"stroke:#000000;stroke-linecap:round;stroke-width:3;\"/>\n   </g>\n   <g id=\"patch_4\">\n    <path clip-path=\"url(#pfcb1645823)\" d=\"M 150.322303 130.943649 \nQ 104.738749 160.845684 61.959729 188.907993 \n\" style=\"fill:none;stroke:#000000;stroke-linecap:round;stroke-width:3;\"/>\n    <path clip-path=\"url(#pfcb1645823)\" d=\"M 67.289651 188.281952 \nL 61.959729 188.907993 \nL 64.656849 184.268431 \nL 67.289651 188.281952 \nz\n\" style=\"stroke:#000000;stroke-linecap:round;stroke-width:3;\"/>\n   </g>\n   <g id=\"patch_5\">\n    <path clip-path=\"url(#pfcb1645823)\" d=\"M 196.260988 130.733883 \nQ 243.086065 160.845691 287.090017 189.143318 \n\" style=\"fill:none;stroke:#000000;stroke-linecap:round;stroke-width:3;\"/>\n    <path clip-path=\"url(#pfcb1645823)\" d=\"M 284.350874 184.52844 \nL 287.090017 189.143318 \nL 281.754629 188.565706 \nL 284.350874 184.52844 \nz\n\" style=\"stroke:#000000;stroke-linecap:round;stroke-width:3;\"/>\n   </g>\n   <g id=\"patch_6\">\n    <path clip-path=\"url(#pfcb1645823)\" d=\"M 287.311699 41.086926 \nQ 241.717675 70.993436 198.928253 99.060323 \n\" style=\"fill:none;stroke:#000000;stroke-linecap:round;stroke-width:3;\"/>\n    <path clip-path=\"url(#pfcb1645823)\" d=\"M 204.258198 98.434477 \nL 198.928253 99.060323 \nL 201.625544 94.420859 \nL 204.258198 98.434477 \nz\n\" style=\"stroke:#000000;stroke-linecap:round;stroke-width:3;\"/>\n   </g>\n   <g id=\"matplotlib.axis_1\">\n    <g id=\"xtick_1\"/>\n    <g id=\"xtick_2\"/>\n    <g id=\"xtick_3\"/>\n    <g id=\"xtick_4\"/>\n    <g id=\"xtick_5\"/>\n    <g id=\"xtick_6\"/>\n   </g>\n   <g id=\"matplotlib.axis_2\">\n    <g id=\"ytick_1\"/>\n    <g id=\"ytick_2\"/>\n    <g id=\"ytick_3\"/>\n    <g id=\"ytick_4\"/>\n    <g id=\"ytick_5\"/>\n    <g id=\"ytick_6\"/>\n    <g id=\"ytick_7\"/>\n    <g id=\"ytick_8\"/>\n   </g>\n   <g id=\"PathCollection_1\">\n    <defs>\n     <path d=\"M 0 27.386128 \nC 7.262886 27.386128 14.229281 24.500553 19.364917 19.364917 \nC 24.500553 14.229281 27.386128 7.262886 27.386128 0 \nC 27.386128 -7.262886 24.500553 -14.229281 19.364917 -19.364917 \nC 14.229281 -24.500553 7.262886 -27.386128 0 -27.386128 \nC -7.262886 -27.386128 -14.229281 -24.500553 -19.364917 -19.364917 \nC -24.500553 -14.229281 -27.386128 -7.262886 -27.386128 0 \nC -27.386128 7.262886 -24.500553 14.229281 -19.364917 19.364917 \nC -14.229281 24.500553 -7.262886 27.386128 0 27.386128 \nz\n\" id=\"m298374fadc\" style=\"stroke:#ffa500;\"/>\n    </defs>\n    <g clip-path=\"url(#pfcb1645823)\">\n     <use style=\"fill:#ffa500;stroke:#ffa500;\" x=\"38.992331\" xlink:href=\"#m298374fadc\" y=\"26.06876\"/>\n     <use style=\"fill:#ffa500;stroke:#ffa500;\" x=\"173.224802\" xlink:href=\"#m298374fadc\" y=\"115.92\"/>\n     <use style=\"fill:#ffa500;stroke:#ffa500;\" x=\"36.252893\" xlink:href=\"#m298374fadc\" y=\"205.77124\"/>\n     <use style=\"fill:#ffa500;stroke:#ffa500;\" x=\"312.947107\" xlink:href=\"#m298374fadc\" y=\"205.77124\"/>\n     <use style=\"fill:#ffa500;stroke:#ffa500;\" x=\"310.207669\" xlink:href=\"#m298374fadc\" y=\"26.06876\"/>\n    </g>\n   </g>\n   <g id=\"patch_7\">\n    <path d=\"M 7.2 224.64 \nL 7.2 7.2 \n\" style=\"fill:none;stroke:#000000;stroke-linecap:square;stroke-linejoin:miter;stroke-width:0.8;\"/>\n   </g>\n   <g id=\"patch_8\">\n    <path d=\"M 342 224.64 \nL 342 7.2 \n\" style=\"fill:none;stroke:#000000;stroke-linecap:square;stroke-linejoin:miter;stroke-width:0.8;\"/>\n   </g>\n   <g id=\"patch_9\">\n    <path d=\"M 7.2 224.64 \nL 342 224.64 \n\" style=\"fill:none;stroke:#000000;stroke-linecap:square;stroke-linejoin:miter;stroke-width:0.8;\"/>\n   </g>\n   <g id=\"patch_10\">\n    <path d=\"M 7.2 7.2 \nL 342 7.2 \n\" style=\"fill:none;stroke:#000000;stroke-linecap:square;stroke-linejoin:miter;stroke-width:0.8;\"/>\n   </g>\n   <g id=\"text_1\">\n    <g clip-path=\"url(#pfcb1645823)\">\n     <!-- ('S', 0) -->\n     <g transform=\"translate(19.572018 29.38001)scale(0.12 -0.12)\">\n      <defs>\n       <path d=\"M 1984 4856 \nQ 1566 4138 1362 3434 \nQ 1159 2731 1159 2009 \nQ 1159 1288 1364 580 \nQ 1569 -128 1984 -844 \nL 1484 -844 \nQ 1016 -109 783 600 \nQ 550 1309 550 2009 \nQ 550 2706 781 3412 \nQ 1013 4119 1484 4856 \nL 1984 4856 \nz\n\" id=\"DejaVuSans-28\" transform=\"scale(0.015625)\"/>\n       <path d=\"M 1147 4666 \nL 1147 2931 \nL 616 2931 \nL 616 4666 \nL 1147 4666 \nz\n\" id=\"DejaVuSans-27\" transform=\"scale(0.015625)\"/>\n       <path d=\"M 3425 4513 \nL 3425 3897 \nQ 3066 4069 2747 4153 \nQ 2428 4238 2131 4238 \nQ 1616 4238 1336 4038 \nQ 1056 3838 1056 3469 \nQ 1056 3159 1242 3001 \nQ 1428 2844 1947 2747 \nL 2328 2669 \nQ 3034 2534 3370 2195 \nQ 3706 1856 3706 1288 \nQ 3706 609 3251 259 \nQ 2797 -91 1919 -91 \nQ 1588 -91 1214 -16 \nQ 841 59 441 206 \nL 441 856 \nQ 825 641 1194 531 \nQ 1563 422 1919 422 \nQ 2459 422 2753 634 \nQ 3047 847 3047 1241 \nQ 3047 1584 2836 1778 \nQ 2625 1972 2144 2069 \nL 1759 2144 \nQ 1053 2284 737 2584 \nQ 422 2884 422 3419 \nQ 422 4038 858 4394 \nQ 1294 4750 2059 4750 \nQ 2388 4750 2728 4690 \nQ 3069 4631 3425 4513 \nz\n\" id=\"DejaVuSans-53\" transform=\"scale(0.015625)\"/>\n       <path d=\"M 750 794 \nL 1409 794 \nL 1409 256 \nL 897 -744 \nL 494 -744 \nL 750 256 \nL 750 794 \nz\n\" id=\"DejaVuSans-2c\" transform=\"scale(0.015625)\"/>\n       <path id=\"DejaVuSans-20\" transform=\"scale(0.015625)\"/>\n       <path d=\"M 2034 4250 \nQ 1547 4250 1301 3770 \nQ 1056 3291 1056 2328 \nQ 1056 1369 1301 889 \nQ 1547 409 2034 409 \nQ 2525 409 2770 889 \nQ 3016 1369 3016 2328 \nQ 3016 3291 2770 3770 \nQ 2525 4250 2034 4250 \nz\nM 2034 4750 \nQ 2819 4750 3233 4129 \nQ 3647 3509 3647 2328 \nQ 3647 1150 3233 529 \nQ 2819 -91 2034 -91 \nQ 1250 -91 836 529 \nQ 422 1150 422 2328 \nQ 422 3509 836 4129 \nQ 1250 4750 2034 4750 \nz\n\" id=\"DejaVuSans-30\" transform=\"scale(0.015625)\"/>\n       <path d=\"M 513 4856 \nL 1013 4856 \nQ 1481 4119 1714 3412 \nQ 1947 2706 1947 2009 \nQ 1947 1309 1714 600 \nQ 1481 -109 1013 -844 \nL 513 -844 \nQ 928 -128 1133 580 \nQ 1338 1288 1338 2009 \nQ 1338 2731 1133 3434 \nQ 928 4138 513 4856 \nz\n\" id=\"DejaVuSans-29\" transform=\"scale(0.015625)\"/>\n      </defs>\n      <use xlink:href=\"#DejaVuSans-28\"/>\n      <use x=\"39.013672\" xlink:href=\"#DejaVuSans-27\"/>\n      <use x=\"66.503906\" xlink:href=\"#DejaVuSans-53\"/>\n      <use x=\"129.980469\" xlink:href=\"#DejaVuSans-27\"/>\n      <use x=\"157.470703\" xlink:href=\"#DejaVuSans-2c\"/>\n      <use x=\"189.257812\" xlink:href=\"#DejaVuSans-20\"/>\n      <use x=\"221.044922\" xlink:href=\"#DejaVuSans-30\"/>\n      <use x=\"284.667969\" xlink:href=\"#DejaVuSans-29\"/>\n     </g>\n    </g>\n   </g>\n   <g id=\"text_2\">\n    <g clip-path=\"url(#pfcb1645823)\">\n     <!-- ('S', 1) -->\n     <g transform=\"translate(153.80449 119.23125)scale(0.12 -0.12)\">\n      <defs>\n       <path d=\"M 794 531 \nL 1825 531 \nL 1825 4091 \nL 703 3866 \nL 703 4441 \nL 1819 4666 \nL 2450 4666 \nL 2450 531 \nL 3481 531 \nL 3481 0 \nL 794 0 \nL 794 531 \nz\n\" id=\"DejaVuSans-31\" transform=\"scale(0.015625)\"/>\n      </defs>\n      <use xlink:href=\"#DejaVuSans-28\"/>\n      <use x=\"39.013672\" xlink:href=\"#DejaVuSans-27\"/>\n      <use x=\"66.503906\" xlink:href=\"#DejaVuSans-53\"/>\n      <use x=\"129.980469\" xlink:href=\"#DejaVuSans-27\"/>\n      <use x=\"157.470703\" xlink:href=\"#DejaVuSans-2c\"/>\n      <use x=\"189.257812\" xlink:href=\"#DejaVuSans-20\"/>\n      <use x=\"221.044922\" xlink:href=\"#DejaVuSans-31\"/>\n      <use x=\"284.667969\" xlink:href=\"#DejaVuSans-29\"/>\n     </g>\n    </g>\n   </g>\n   <g id=\"text_3\">\n    <g clip-path=\"url(#pfcb1645823)\">\n     <!-- ('O', 1) -->\n     <g transform=\"translate(15.918518 209.08249)scale(0.12 -0.12)\">\n      <defs>\n       <path d=\"M 2522 4238 \nQ 1834 4238 1429 3725 \nQ 1025 3213 1025 2328 \nQ 1025 1447 1429 934 \nQ 1834 422 2522 422 \nQ 3209 422 3611 934 \nQ 4013 1447 4013 2328 \nQ 4013 3213 3611 3725 \nQ 3209 4238 2522 4238 \nz\nM 2522 4750 \nQ 3503 4750 4090 4092 \nQ 4678 3434 4678 2328 \nQ 4678 1225 4090 567 \nQ 3503 -91 2522 -91 \nQ 1538 -91 948 565 \nQ 359 1222 359 2328 \nQ 359 3434 948 4092 \nQ 1538 4750 2522 4750 \nz\n\" id=\"DejaVuSans-4f\" transform=\"scale(0.015625)\"/>\n      </defs>\n      <use xlink:href=\"#DejaVuSans-28\"/>\n      <use x=\"39.013672\" xlink:href=\"#DejaVuSans-27\"/>\n      <use x=\"66.503906\" xlink:href=\"#DejaVuSans-4f\"/>\n      <use x=\"145.214844\" xlink:href=\"#DejaVuSans-27\"/>\n      <use x=\"172.705078\" xlink:href=\"#DejaVuSans-2c\"/>\n      <use x=\"204.492188\" xlink:href=\"#DejaVuSans-20\"/>\n      <use x=\"236.279297\" xlink:href=\"#DejaVuSans-31\"/>\n      <use x=\"299.902344\" xlink:href=\"#DejaVuSans-29\"/>\n     </g>\n    </g>\n   </g>\n   <g id=\"text_4\">\n    <g clip-path=\"url(#pfcb1645823)\">\n     <!-- ('R', 1) -->\n     <g transform=\"translate(293.166795 209.08249)scale(0.12 -0.12)\">\n      <defs>\n       <path d=\"M 2841 2188 \nQ 3044 2119 3236 1894 \nQ 3428 1669 3622 1275 \nL 4263 0 \nL 3584 0 \nL 2988 1197 \nQ 2756 1666 2539 1819 \nQ 2322 1972 1947 1972 \nL 1259 1972 \nL 1259 0 \nL 628 0 \nL 628 4666 \nL 2053 4666 \nQ 2853 4666 3247 4331 \nQ 3641 3997 3641 3322 \nQ 3641 2881 3436 2590 \nQ 3231 2300 2841 2188 \nz\nM 1259 4147 \nL 1259 2491 \nL 2053 2491 \nQ 2509 2491 2742 2702 \nQ 2975 2913 2975 3322 \nQ 2975 3731 2742 3939 \nQ 2509 4147 2053 4147 \nL 1259 4147 \nz\n\" id=\"DejaVuSans-52\" transform=\"scale(0.015625)\"/>\n      </defs>\n      <use xlink:href=\"#DejaVuSans-28\"/>\n      <use x=\"39.013672\" xlink:href=\"#DejaVuSans-27\"/>\n      <use x=\"66.503906\" xlink:href=\"#DejaVuSans-52\"/>\n      <use x=\"135.986328\" xlink:href=\"#DejaVuSans-27\"/>\n      <use x=\"163.476562\" xlink:href=\"#DejaVuSans-2c\"/>\n      <use x=\"195.263672\" xlink:href=\"#DejaVuSans-20\"/>\n      <use x=\"227.050781\" xlink:href=\"#DejaVuSans-31\"/>\n      <use x=\"290.673828\" xlink:href=\"#DejaVuSans-29\"/>\n     </g>\n    </g>\n   </g>\n   <g id=\"text_5\">\n    <g clip-path=\"url(#pfcb1645823)\">\n     <!-- ('A', 0) -->\n     <g transform=\"translate(290.492044 29.38001)scale(0.12 -0.12)\">\n      <defs>\n       <path d=\"M 2188 4044 \nL 1331 1722 \nL 3047 1722 \nL 2188 4044 \nz\nM 1831 4666 \nL 2547 4666 \nL 4325 0 \nL 3669 0 \nL 3244 1197 \nL 1141 1197 \nL 716 0 \nL 50 0 \nL 1831 4666 \nz\n\" id=\"DejaVuSans-41\" transform=\"scale(0.015625)\"/>\n      </defs>\n      <use xlink:href=\"#DejaVuSans-28\"/>\n      <use x=\"39.013672\" xlink:href=\"#DejaVuSans-27\"/>\n      <use x=\"66.503906\" xlink:href=\"#DejaVuSans-41\"/>\n      <use x=\"134.912109\" xlink:href=\"#DejaVuSans-27\"/>\n      <use x=\"162.402344\" xlink:href=\"#DejaVuSans-2c\"/>\n      <use x=\"194.189453\" xlink:href=\"#DejaVuSans-20\"/>\n      <use x=\"225.976562\" xlink:href=\"#DejaVuSans-30\"/>\n      <use x=\"289.599609\" xlink:href=\"#DejaVuSans-29\"/>\n     </g>\n    </g>\n   </g>\n  </g>\n </g>\n <defs>\n  <clipPath id=\"pfcb1645823\">\n   <rect height=\"217.44\" width=\"334.8\" x=\"7.2\" y=\"7.2\"/>\n  </clipPath>\n </defs>\n</svg>\n",
      "text/plain": [
       "<Figure size 432x288 with 1 Axes>"
      ]
     },
     "metadata": {},
     "output_type": "display_data"
    }
   ],
   "source": [
    "# Create nodes\n",
    "s0 = DiscreteNode((\"S\", 0), node_type=DDN.state_type, value_space=[0,1,2,3])\n",
    "a0 = DiscreteNode((\"A\", 0), node_type=DDN.action_type, value_space=[0,1])\n",
    "s1 = DiscreteNode((\"S\", 1), node_type=DDN.state_type, value_space=[0,1,2,3])\n",
    "o1 = DiscreteNode((\"O\", 1), node_type=DDN.observation_type, value_space=[0,1])\n",
    "r1 = DiscreteNode((\"R\", 1), node_type=DDN.reward_type, value_space=[0,1])\n",
    "\n",
    "# Discount factor of the POMDP\n",
    "discount = 0.4\n",
    "\n",
    "# Create the DDN structure\n",
    "robot_ddn = DDN(discount=discount)\n",
    "robot_ddn.add_nodes([s0, s1, o1, r1, a0])\n",
    "robot_ddn.add_edges([\n",
    "    ((\"S\", 0), (\"S\", 1)), \n",
    "    ((\"A\", 0), (\"S\", 1)),\n",
    "    ((\"S\", 1), (\"O\", 1)), \n",
    "    ((\"S\", 1), (\"R\", 1)) \n",
    "])\n",
    "robot_ddn.draw()"
   ]
  },
  {
   "cell_type": "code",
   "execution_count": 24,
   "id": "21a3a946",
   "metadata": {},
   "outputs": [],
   "source": [
    "# Add data for node State 0\n",
    "data = {\n",
    "    (\"S\", 0): [0,1,2,3], \n",
    "    \"Prob\": [0.25,0.25,0.25,0.25]\n",
    "}\n",
    "robot_ddn.add_pt((\"S\", 0), data)\n",
    "\n",
    "# Add data for node State 1\n",
    "data = {\n",
    "    (\"S\", 0): [0,0,0,0,0,0,0,0,1,1,1,1,1,1,1,1,2,2,2,2,2,2,2,2,3,3,3,3,3,3,3,3], \n",
    "    (\"A\", 0): [0,0,0,0,1,1,1,1,0,0,0,0,1,1,1,1,0,0,0,0,1,1,1,1,0,0,0,0,1,1,1,1], \n",
    "    (\"S\", 1): [0,1,2,3,0,1,2,3,0,1,2,3,0,1,2,3,0,1,2,3,0,1,2,3,0,1,2,3,0,1,2,3], \n",
    "    \"Prob\": [1,0,0,0,0,1,0,0,1,0,0,0,0,0,1,0,1/3,1/3,0,1/3,1/3,1/3,0,1/3,0,0,1,0,0,0,0,1]\n",
    "}\n",
    "robot_ddn.add_pt((\"S\", 1), data)\n",
    "\n",
    "# Add data for node Evidence\n",
    "data = { \n",
    "    (\"S\", 1): [0,0,1,1,2,2,3,3], \n",
    "    (\"O\", 1): [0,1,0,1,0,1,0,1], \n",
    "    \"Prob\": [1,0,1,0,0,1,1,0]\n",
    "}\n",
    "robot_ddn.add_pt((\"O\", 1), data)\n",
    "\n",
    "# Add data for node Reward\n",
    "data = { \n",
    "    (\"S\", 1): [0,0,1,1,2,2,3,3], \n",
    "    (\"R\", 1): [0,1,0,1,0,1,0,1], \n",
    "    \"Prob\": [1,0,1,0,0,1,1,0]\n",
    "}\n",
    "robot_ddn.add_pt((\"R\", 1), data)\n",
    "\n",
    "# Initialize ddn\n",
    "robot_ddn.initialize()"
   ]
  },
  {
   "cell_type": "markdown",
   "id": "c725825d-07a1-4814-8c2c-0cc881bb6fa0",
   "metadata": {},
   "source": [
    "### Calculating best action"
   ]
  },
  {
   "cell_type": "code",
   "execution_count": 25,
   "id": "50f835b5",
   "metadata": {},
   "outputs": [],
   "source": [
    "# Build the lookahead tree\n",
    "horizon = 2\n",
    "action_space = robot_ddn.get_space(robot_ddn.action_type)\n",
    "observation_space = robot_ddn.get_space(robot_ddn.observation_type)\n",
    "tree = build_tree({}, action_space, observation_space, horizon)"
   ]
  },
  {
   "cell_type": "code",
   "execution_count": 15,
   "id": "ec30f8e1-e5a3-4569-817c-111cd2009fe8",
   "metadata": {},
   "outputs": [
    {
     "data": {
      "text/plain": [
       "{('A', 0): 1}"
      ]
     },
     "execution_count": 15,
     "metadata": {},
     "output_type": "execute_result"
    }
   ],
   "source": [
    "n_samples = 100\n",
    "pomdp_lookahead(robot_ddn, tree, n_samples)"
   ]
  },
  {
   "cell_type": "code",
   "execution_count": 26,
   "id": "ea62dd35-29bf-4dc5-9ede-b52003e92ac4",
   "metadata": {},
   "outputs": [
    {
     "name": "stderr",
     "output_type": "stream",
     "text": [
      "100%|██████████| 3/3 [00:15<00:00,  5.31s/it]\n"
     ]
    }
   ],
   "source": [
    "# Calculate best action for ten time-steps\n",
    "r = []\n",
    "for _ in tqdm(range(3)):\n",
    "    actions = pomdp_lookahead(robot_ddn, tree, n_samples)\n",
    "    observations = robot_ddn.sample_observation(actions)\n",
    "    robot_ddn.belief_update(actions, observations, n_samples)\n",
    "    # ddn.increase_time()\n",
    "    r.append(actions)"
   ]
  },
  {
   "cell_type": "code",
   "execution_count": 27,
   "id": "2672d40f-fd1e-47d2-8b36-e62e92e6c51f",
   "metadata": {},
   "outputs": [
    {
     "data": {
      "text/plain": [
       "[{('A', 0): 1}, {('A', 0): 1}, {('A', 0): 0}]"
      ]
     },
     "execution_count": 27,
     "metadata": {},
     "output_type": "execute_result"
    }
   ],
   "source": [
    "r"
   ]
  },
  {
   "cell_type": "code",
   "execution_count": null,
   "id": "6a718974-e932-49b4-b7f3-b3c67b3f1a12",
   "metadata": {},
   "outputs": [],
   "source": [
    "# Should the best action be always the same???"
   ]
  }
 ],
 "metadata": {
  "kernelspec": {
   "display_name": "Python 3.9.7 ('Thesis')",
   "language": "python",
   "name": "python3"
  },
  "language_info": {
   "codemirror_mode": {
    "name": "ipython",
    "version": 3
   },
   "file_extension": ".py",
   "mimetype": "text/x-python",
   "name": "python",
   "nbconvert_exporter": "python",
   "pygments_lexer": "ipython3",
   "version": "3.9.7"
  },
  "vscode": {
   "interpreter": {
    "hash": "4667db92b50b909313b95f3efb82863da51d4adc6f7a2bee07386b4c13650d43"
   }
  }
 },
 "nbformat": 4,
 "nbformat_minor": 5
}
