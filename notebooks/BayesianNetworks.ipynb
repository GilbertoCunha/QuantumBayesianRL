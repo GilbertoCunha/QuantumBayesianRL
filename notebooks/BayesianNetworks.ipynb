{
 "cells": [
  {
   "cell_type": "code",
   "execution_count": 1,
   "metadata": {},
   "outputs": [],
   "source": [
    "%config InlineBackend.figure_format = \"svg\"\n",
    "\n",
    "import sys\n",
    "sys.path.append(\"../\")\n",
    "\n",
    "from src.networks.qbn_new import QuantumBayesianNetwork\n",
    "from src.networks.bn import BayesianNetwork\n",
    "from src.networks.nodes import DiscreteNode"
   ]
  },
  {
   "cell_type": "markdown",
   "metadata": {},
   "source": [
    "# Bayesian Network Class"
   ]
  },
  {
   "cell_type": "markdown",
   "metadata": {},
   "source": [
    "## Create Bayesian Network Structure"
   ]
  },
  {
   "cell_type": "markdown",
   "metadata": {},
   "source": [
    "Using the `BayesianNetwork` class defined in the `bn.py` file, we can define its structure by defining its nodes and edges. Its nodes should be defined using the `DiscreteNode` class, if one wishes to represent discrete random variables."
   ]
  },
  {
   "cell_type": "code",
   "execution_count": null,
   "metadata": {},
   "outputs": [],
   "source": [
    "# Create the nodes\n",
    "cloudy = DiscreteNode(\"Cloudy\", \"state\", value_space=[0, 1])\n",
    "sprinkler = DiscreteNode(\"Sprinkler\", \"state\", value_space=[0, 1])\n",
    "rain = DiscreteNode(\"Rain\", \"state\", value_space=[0, 1])\n",
    "wetgrass = DiscreteNode(\"WetGrass\", \"state\", value_space=[0, 1])\n",
    "\n",
    "# Create the Bayesian Network\n",
    "bn = BayesianNetwork()\n",
    "bn.add_nodes([cloudy, sprinkler, rain, wetgrass])\n",
    "bn.add_edges([(\"Cloudy\", \"Sprinkler\"), (\"Cloudy\", \"Rain\"), (\"Sprinkler\", \"WetGrass\"), (\"Rain\", \"WetGrass\")])\n",
    "bn.draw()"
   ]
  },
  {
   "cell_type": "markdown",
   "metadata": {},
   "source": [
    "## Populate Bayesian Network with data"
   ]
  },
  {
   "cell_type": "markdown",
   "metadata": {},
   "source": [
    "However, the above code only gives the `BayesianNetwork` its structure! We also need to feed it the Conditional Probability Tables (CPTs) for each node. This can be done by creating a dictionary that represents each CPT:"
   ]
  },
  {
   "cell_type": "code",
   "execution_count": null,
   "metadata": {},
   "outputs": [],
   "source": [
    "# Add data for node cloudy\n",
    "data = {\"Cloudy\": [0,1], \"Prob\": [0.5,0.5]}\n",
    "bn.add_pt(\"Cloudy\", data)\n",
    "\n",
    "# Add data for node Sprinkler\n",
    "data = {\"Cloudy\": [0,0,1,1], \"Sprinkler\": [0,1,0,1], \"Prob\": [0.5,0.5,0.9,0.1]}\n",
    "bn.add_pt(\"Sprinkler\", data)\n",
    "\n",
    "# Add data for node Cloudy\n",
    "data = {\"Cloudy\": [0,0,1,1], \"Rain\": [0,1,0,1], \"Prob\": [0.8,0.2,0.2,0.8]}\n",
    "bn.add_pt(\"Rain\", data)\n",
    "\n",
    "# Add data for node WetGrass\n",
    "data = {\"Sprinkler\": [0,0,0,0,1,1,1,1], \"Rain\": [0,0,1,1,0,0,1,1], \"WetGrass\": [0,1,0,1,0,1,0,1], \"Prob\": [1,0,0.1,0.9,0.1,0.9,0.01,0.99]}\n",
    "bn.add_pt(\"WetGrass\", data)"
   ]
  },
  {
   "cell_type": "markdown",
   "metadata": {},
   "source": [
    "## Apply sampling and get results"
   ]
  },
  {
   "cell_type": "markdown",
   "metadata": {},
   "source": [
    "Given that the network has been fully define, we can initialize it with the `initialize` method. This method lets the `BayesianNetwork` class define the correct node traversal order for performing inference."
   ]
  },
  {
   "cell_type": "code",
   "execution_count": null,
   "metadata": {},
   "outputs": [],
   "source": [
    "# Initialize the network\n",
    "bn.initialize()"
   ]
  },
  {
   "cell_type": "markdown",
   "metadata": {},
   "source": [
    "Finally, since we already fully defined the `BayesianNetwork`, we can start querying it for any distribution we like! The line bellow represents one possible query and uses the `rejection sampling` algorithm to perform inference:"
   ]
  },
  {
   "cell_type": "code",
   "execution_count": null,
   "metadata": {},
   "outputs": [],
   "source": [
    "bn.query(query=[\"Sprinkler\"], evidence={\"Cloudy\": 1}, n_samples=100)"
   ]
  },
  {
   "cell_type": "code",
   "execution_count": null,
   "metadata": {},
   "outputs": [],
   "source": [
    "# Query the Bayesian Network\n",
    "bn.query(query=[\"Cloudy\", \"WetGrass\"], evidence={\"Rain\": 1, \"Sprinkler\": 0}, n_samples=1000)"
   ]
  },
  {
   "cell_type": "markdown",
   "metadata": {},
   "source": [
    "## Quantum Bayesian Networks"
   ]
  },
  {
   "cell_type": "markdown",
   "metadata": {},
   "source": [
    "This first section's purpose is to represent the full joint distribution of the above bayesian network in a quantum circuit, so that we can get samples from the joint distribution just by performing measurements in the circuit."
   ]
  },
  {
   "cell_type": "markdown",
   "metadata": {},
   "source": [
    "A joint distribution in a BN with random variables $\\mathcal{X} = \\{X_1, \\dots, X_n\\}$ taking values $x_1, \\dots, x_n$ can be mathematically described by the following equation:"
   ]
  },
  {
   "cell_type": "markdown",
   "metadata": {},
   "source": [
    "$$ \\mathbb{P} \\left[ x_1, \\dots, x_n \\right] = \\prod_{i=1}^{n} \\mathbb{P} \\left[ x_i \\vert \\text{parents}(x_i) \\right] $$"
   ]
  },
  {
   "cell_type": "markdown",
   "metadata": {},
   "source": [
    "By translating this equation to the example above, we get:\n",
    "\n",
    "$$ \\mathbb{P} \\left[ c, r, s, w \\right] = \\mathbb{P} \\left[ c \\right] \\mathbb{P} \\left[ r \\vert c \\right] \\mathbb{P} \\left[ s \\vert c \\right] \\mathbb{P} \\left[ w \\vert r, s \\right] $$"
   ]
  },
  {
   "cell_type": "markdown",
   "metadata": {},
   "source": [
    "In a general case, translating a BN into a quantum circuit involves applying a controlled rotation gate $\\hat{U}_i$ on the target qubit of the random variable $X_i$, controlled by the qubits of the random variables that are parents of the target qubit, $\\text{parents}(X_i)$, for each combination of values the parents random variables can take. This ensures we encode every entry of the CPTs in the BN into the quantum circuit."
   ]
  },
  {
   "cell_type": "markdown",
   "metadata": {},
   "source": [
    "Let's consider an example. For the WetGrass node in the BN above, we will need to apply 4 of these rotation gates, since this node has two parents and each of them can take two possible values. \n",
    "\n",
    "Say we want to encode a controlled rotation for WetGrass $w$ when $s = 1$ and $r = 0$. To do so, we want to apply that rotation when $\\vert s \\rangle = \\vert 1 \\rangle$ and $\\vert r \\rangle = \\vert 0 \\rangle$."
   ]
  },
  {
   "cell_type": "markdown",
   "metadata": {},
   "source": [
    "This gate should perform a controlled $RY(\\theta_i)$ rotation about the y-axis. Suppose $P_i = \\{P_{i1}, \\dots, P_{im}\\}$ are the parent random variables of the random variable $X_i$ and that we are considering a rotation where they take the values $p_{i1}, \\dots, p_{im}$. The angle $\\theta_i$ is given by the expression:\n",
    "\n",
    "$$ \\theta_i = 2 \\arctan \\left( \\sqrt{ \\frac{ \\mathbb{P} \\left[ X_i = 1 \\vert P_{i1} = p_{i1}, \\dots, P_{im} = p_{im} \\right] }{ \\mathbb{P} \\left[ X_i = 0 \\vert P_{i1} = p_{i1}, \\dots, P_{im} = p_{im} \\right] } } \\right) $$"
   ]
  },
  {
   "cell_type": "code",
   "execution_count": 1,
   "metadata": {},
   "outputs": [],
   "source": [
    "%config InlineBackend.figure_format = \"svg\"\n",
    "\n",
    "import sys\n",
    "sys.path.append(\"../\")\n",
    "\n",
    "from src.networks.qbn_new import QuantumBayesianNetwork\n",
    "from src.networks.bn import BayesianNetwork\n",
    "from src.networks.nodes import DiscreteNode"
   ]
  },
  {
   "cell_type": "code",
   "execution_count": 2,
   "metadata": {},
   "outputs": [
    {
     "data": {
      "image/svg+xml": "<?xml version=\"1.0\" encoding=\"utf-8\" standalone=\"no\"?>\n<!DOCTYPE svg PUBLIC \"-//W3C//DTD SVG 1.1//EN\"\n  \"http://www.w3.org/Graphics/SVG/1.1/DTD/svg11.dtd\">\n<svg height=\"231.84pt\" version=\"1.1\" viewBox=\"0 0 349.2 231.84\" width=\"349.2pt\" xmlns=\"http://www.w3.org/2000/svg\" xmlns:xlink=\"http://www.w3.org/1999/xlink\">\n <metadata>\n  <rdf:RDF xmlns:cc=\"http://creativecommons.org/ns#\" xmlns:dc=\"http://purl.org/dc/elements/1.1/\" xmlns:rdf=\"http://www.w3.org/1999/02/22-rdf-syntax-ns#\">\n   <cc:Work>\n    <dc:type rdf:resource=\"http://purl.org/dc/dcmitype/StillImage\"/>\n    <dc:date>2022-08-01T14:52:05.932184</dc:date>\n    <dc:format>image/svg+xml</dc:format>\n    <dc:creator>\n     <cc:Agent>\n      <dc:title>Matplotlib v3.4.3, https://matplotlib.org/</dc:title>\n     </cc:Agent>\n    </dc:creator>\n   </cc:Work>\n  </rdf:RDF>\n </metadata>\n <defs>\n  <style type=\"text/css\">*{stroke-linecap:butt;stroke-linejoin:round;}</style>\n </defs>\n <g id=\"figure_1\">\n  <g id=\"patch_1\">\n   <path d=\"M 0 231.84 \nL 349.2 231.84 \nL 349.2 0 \nL 0 0 \nz\n\" style=\"fill:none;\"/>\n  </g>\n  <g id=\"axes_1\">\n   <g id=\"patch_2\">\n    <path d=\"M 7.2 224.64 \nL 342 224.64 \nL 342 7.2 \nL 7.2 7.2 \nz\n\" style=\"fill:#ffffff;\"/>\n   </g>\n   <g id=\"patch_3\">\n    <path clip-path=\"url(#pb0980baf0c)\" d=\"M 151.639876 40.984099 \nQ 105.431207 70.993448 62.035493 99.175976 \n\" style=\"fill:none;stroke:#000000;stroke-linecap:round;stroke-width:3;\"/>\n    <path clip-path=\"url(#pb0980baf0c)\" d=\"M 67.368235 98.57443 \nL 62.035493 99.175976 \nL 64.753901 94.548855 \nL 67.368235 98.57443 \nz\n\" style=\"stroke:#000000;stroke-linecap:round;stroke-width:3;\"/>\n   </g>\n   <g id=\"patch_4\">\n    <path clip-path=\"url(#pb0980baf0c)\" d=\"M 197.575439 40.986841 \nQ 243.777976 70.995092 287.167636 99.176399 \n\" style=\"fill:none;stroke:#000000;stroke-linecap:round;stroke-width:3;\"/>\n    <path clip-path=\"url(#pb0980baf0c)\" d=\"M 284.449431 94.549157 \nL 287.167636 99.176399 \nL 281.83492 98.574618 \nL 284.449431 94.549157 \nz\n\" style=\"stroke:#000000;stroke-linecap:round;stroke-width:3;\"/>\n   </g>\n   <g id=\"patch_5\">\n    <path clip-path=\"url(#pb0980baf0c)\" d=\"M 59.219667 130.835339 \nQ 105.428337 160.844688 148.824051 189.027216 \n\" style=\"fill:none;stroke:#000000;stroke-linecap:round;stroke-width:3;\"/>\n    <path clip-path=\"url(#pb0980baf0c)\" d=\"M 146.105642 184.400094 \nL 148.824051 189.027216 \nL 143.491308 188.42567 \nL 146.105642 184.400094 \nz\n\" style=\"stroke:#000000;stroke-linecap:round;stroke-width:3;\"/>\n   </g>\n   <g id=\"patch_6\">\n    <path clip-path=\"url(#pb0980baf0c)\" d=\"M 289.978319 130.838081 \nQ 243.775783 160.846332 200.386122 189.027638 \n\" style=\"fill:none;stroke:#000000;stroke-linecap:round;stroke-width:3;\"/>\n    <path clip-path=\"url(#pb0980baf0c)\" d=\"M 205.718838 188.425858 \nL 200.386122 189.027638 \nL 203.104327 184.400397 \nL 205.718838 188.425858 \nz\n\" style=\"stroke:#000000;stroke-linecap:round;stroke-width:3;\"/>\n   </g>\n   <g id=\"matplotlib.axis_1\">\n    <g id=\"xtick_1\"/>\n    <g id=\"xtick_2\"/>\n    <g id=\"xtick_3\"/>\n    <g id=\"xtick_4\"/>\n    <g id=\"xtick_5\"/>\n    <g id=\"xtick_6\"/>\n   </g>\n   <g id=\"matplotlib.axis_2\">\n    <g id=\"ytick_1\"/>\n    <g id=\"ytick_2\"/>\n    <g id=\"ytick_3\"/>\n    <g id=\"ytick_4\"/>\n    <g id=\"ytick_5\"/>\n    <g id=\"ytick_6\"/>\n    <g id=\"ytick_7\"/>\n    <g id=\"ytick_8\"/>\n   </g>\n   <g id=\"PathCollection_1\">\n    <defs>\n     <path d=\"M 0 27.386128 \nC 7.262886 27.386128 14.229281 24.500553 19.364917 19.364917 \nC 24.500553 14.229281 27.386128 7.262886 27.386128 0 \nC 27.386128 -7.262886 24.500553 -14.229281 19.364917 -19.364917 \nC 14.229281 -24.500553 7.262886 -27.386128 0 -27.386128 \nC -7.262886 -27.386128 -14.229281 -24.500553 -19.364917 -19.364917 \nC -24.500553 -14.229281 -27.386128 -7.262886 -27.386128 0 \nC -27.386128 7.262886 -24.500553 14.229281 -19.364917 19.364917 \nC -14.229281 24.500553 -7.262886 27.386128 0 27.386128 \nz\n\" id=\"mb313bc7e50\" style=\"stroke:#ffa500;\"/>\n    </defs>\n    <g clip-path=\"url(#pb0980baf0c)\">\n     <use style=\"fill:#ffa500;stroke:#ffa500;\" x=\"174.606651\" xlink:href=\"#mb313bc7e50\" y=\"26.06876\"/>\n     <use style=\"fill:#ffa500;stroke:#ffa500;\" x=\"36.252893\" xlink:href=\"#mb313bc7e50\" y=\"115.92\"/>\n     <use style=\"fill:#ffa500;stroke:#ffa500;\" x=\"312.947107\" xlink:href=\"#mb313bc7e50\" y=\"115.92\"/>\n     <use style=\"fill:#ffa500;stroke:#ffa500;\" x=\"174.606651\" xlink:href=\"#mb313bc7e50\" y=\"205.77124\"/>\n    </g>\n   </g>\n   <g id=\"patch_7\">\n    <path d=\"M 7.2 224.64 \nL 7.2 7.2 \n\" style=\"fill:none;stroke:#000000;stroke-linecap:square;stroke-linejoin:miter;stroke-width:0.8;\"/>\n   </g>\n   <g id=\"patch_8\">\n    <path d=\"M 342 224.64 \nL 342 7.2 \n\" style=\"fill:none;stroke:#000000;stroke-linecap:square;stroke-linejoin:miter;stroke-width:0.8;\"/>\n   </g>\n   <g id=\"patch_9\">\n    <path d=\"M 7.2 224.64 \nL 342 224.64 \n\" style=\"fill:none;stroke:#000000;stroke-linecap:square;stroke-linejoin:miter;stroke-width:0.8;\"/>\n   </g>\n   <g id=\"patch_10\">\n    <path d=\"M 7.2 7.2 \nL 342 7.2 \n\" style=\"fill:none;stroke:#000000;stroke-linecap:square;stroke-linejoin:miter;stroke-width:0.8;\"/>\n   </g>\n   <g id=\"text_1\">\n    <g clip-path=\"url(#pb0980baf0c)\">\n     <!-- Cloudy -->\n     <g transform=\"translate(153.916026 29.38001)scale(0.12 -0.12)\">\n      <defs>\n       <path d=\"M 4122 4306 \nL 4122 3641 \nQ 3803 3938 3442 4084 \nQ 3081 4231 2675 4231 \nQ 1875 4231 1450 3742 \nQ 1025 3253 1025 2328 \nQ 1025 1406 1450 917 \nQ 1875 428 2675 428 \nQ 3081 428 3442 575 \nQ 3803 722 4122 1019 \nL 4122 359 \nQ 3791 134 3420 21 \nQ 3050 -91 2638 -91 \nQ 1578 -91 968 557 \nQ 359 1206 359 2328 \nQ 359 3453 968 4101 \nQ 1578 4750 2638 4750 \nQ 3056 4750 3426 4639 \nQ 3797 4528 4122 4306 \nz\n\" id=\"DejaVuSans-43\" transform=\"scale(0.015625)\"/>\n       <path d=\"M 603 4863 \nL 1178 4863 \nL 1178 0 \nL 603 0 \nL 603 4863 \nz\n\" id=\"DejaVuSans-6c\" transform=\"scale(0.015625)\"/>\n       <path d=\"M 1959 3097 \nQ 1497 3097 1228 2736 \nQ 959 2375 959 1747 \nQ 959 1119 1226 758 \nQ 1494 397 1959 397 \nQ 2419 397 2687 759 \nQ 2956 1122 2956 1747 \nQ 2956 2369 2687 2733 \nQ 2419 3097 1959 3097 \nz\nM 1959 3584 \nQ 2709 3584 3137 3096 \nQ 3566 2609 3566 1747 \nQ 3566 888 3137 398 \nQ 2709 -91 1959 -91 \nQ 1206 -91 779 398 \nQ 353 888 353 1747 \nQ 353 2609 779 3096 \nQ 1206 3584 1959 3584 \nz\n\" id=\"DejaVuSans-6f\" transform=\"scale(0.015625)\"/>\n       <path d=\"M 544 1381 \nL 544 3500 \nL 1119 3500 \nL 1119 1403 \nQ 1119 906 1312 657 \nQ 1506 409 1894 409 \nQ 2359 409 2629 706 \nQ 2900 1003 2900 1516 \nL 2900 3500 \nL 3475 3500 \nL 3475 0 \nL 2900 0 \nL 2900 538 \nQ 2691 219 2414 64 \nQ 2138 -91 1772 -91 \nQ 1169 -91 856 284 \nQ 544 659 544 1381 \nz\nM 1991 3584 \nL 1991 3584 \nz\n\" id=\"DejaVuSans-75\" transform=\"scale(0.015625)\"/>\n       <path d=\"M 2906 2969 \nL 2906 4863 \nL 3481 4863 \nL 3481 0 \nL 2906 0 \nL 2906 525 \nQ 2725 213 2448 61 \nQ 2172 -91 1784 -91 \nQ 1150 -91 751 415 \nQ 353 922 353 1747 \nQ 353 2572 751 3078 \nQ 1150 3584 1784 3584 \nQ 2172 3584 2448 3432 \nQ 2725 3281 2906 2969 \nz\nM 947 1747 \nQ 947 1113 1208 752 \nQ 1469 391 1925 391 \nQ 2381 391 2643 752 \nQ 2906 1113 2906 1747 \nQ 2906 2381 2643 2742 \nQ 2381 3103 1925 3103 \nQ 1469 3103 1208 2742 \nQ 947 2381 947 1747 \nz\n\" id=\"DejaVuSans-64\" transform=\"scale(0.015625)\"/>\n       <path d=\"M 2059 -325 \nQ 1816 -950 1584 -1140 \nQ 1353 -1331 966 -1331 \nL 506 -1331 \nL 506 -850 \nL 844 -850 \nQ 1081 -850 1212 -737 \nQ 1344 -625 1503 -206 \nL 1606 56 \nL 191 3500 \nL 800 3500 \nL 1894 763 \nL 2988 3500 \nL 3597 3500 \nL 2059 -325 \nz\n\" id=\"DejaVuSans-79\" transform=\"scale(0.015625)\"/>\n      </defs>\n      <use xlink:href=\"#DejaVuSans-43\"/>\n      <use x=\"69.824219\" xlink:href=\"#DejaVuSans-6c\"/>\n      <use x=\"97.607422\" xlink:href=\"#DejaVuSans-6f\"/>\n      <use x=\"158.789062\" xlink:href=\"#DejaVuSans-75\"/>\n      <use x=\"222.167969\" xlink:href=\"#DejaVuSans-64\"/>\n      <use x=\"285.644531\" xlink:href=\"#DejaVuSans-79\"/>\n     </g>\n    </g>\n   </g>\n   <g id=\"text_2\">\n    <g clip-path=\"url(#pb0980baf0c)\">\n     <!-- Sprinkler -->\n     <g transform=\"translate(9.399143 119.23125)scale(0.12 -0.12)\">\n      <defs>\n       <path d=\"M 3425 4513 \nL 3425 3897 \nQ 3066 4069 2747 4153 \nQ 2428 4238 2131 4238 \nQ 1616 4238 1336 4038 \nQ 1056 3838 1056 3469 \nQ 1056 3159 1242 3001 \nQ 1428 2844 1947 2747 \nL 2328 2669 \nQ 3034 2534 3370 2195 \nQ 3706 1856 3706 1288 \nQ 3706 609 3251 259 \nQ 2797 -91 1919 -91 \nQ 1588 -91 1214 -16 \nQ 841 59 441 206 \nL 441 856 \nQ 825 641 1194 531 \nQ 1563 422 1919 422 \nQ 2459 422 2753 634 \nQ 3047 847 3047 1241 \nQ 3047 1584 2836 1778 \nQ 2625 1972 2144 2069 \nL 1759 2144 \nQ 1053 2284 737 2584 \nQ 422 2884 422 3419 \nQ 422 4038 858 4394 \nQ 1294 4750 2059 4750 \nQ 2388 4750 2728 4690 \nQ 3069 4631 3425 4513 \nz\n\" id=\"DejaVuSans-53\" transform=\"scale(0.015625)\"/>\n       <path d=\"M 1159 525 \nL 1159 -1331 \nL 581 -1331 \nL 581 3500 \nL 1159 3500 \nL 1159 2969 \nQ 1341 3281 1617 3432 \nQ 1894 3584 2278 3584 \nQ 2916 3584 3314 3078 \nQ 3713 2572 3713 1747 \nQ 3713 922 3314 415 \nQ 2916 -91 2278 -91 \nQ 1894 -91 1617 61 \nQ 1341 213 1159 525 \nz\nM 3116 1747 \nQ 3116 2381 2855 2742 \nQ 2594 3103 2138 3103 \nQ 1681 3103 1420 2742 \nQ 1159 2381 1159 1747 \nQ 1159 1113 1420 752 \nQ 1681 391 2138 391 \nQ 2594 391 2855 752 \nQ 3116 1113 3116 1747 \nz\n\" id=\"DejaVuSans-70\" transform=\"scale(0.015625)\"/>\n       <path d=\"M 2631 2963 \nQ 2534 3019 2420 3045 \nQ 2306 3072 2169 3072 \nQ 1681 3072 1420 2755 \nQ 1159 2438 1159 1844 \nL 1159 0 \nL 581 0 \nL 581 3500 \nL 1159 3500 \nL 1159 2956 \nQ 1341 3275 1631 3429 \nQ 1922 3584 2338 3584 \nQ 2397 3584 2469 3576 \nQ 2541 3569 2628 3553 \nL 2631 2963 \nz\n\" id=\"DejaVuSans-72\" transform=\"scale(0.015625)\"/>\n       <path d=\"M 603 3500 \nL 1178 3500 \nL 1178 0 \nL 603 0 \nL 603 3500 \nz\nM 603 4863 \nL 1178 4863 \nL 1178 4134 \nL 603 4134 \nL 603 4863 \nz\n\" id=\"DejaVuSans-69\" transform=\"scale(0.015625)\"/>\n       <path d=\"M 3513 2113 \nL 3513 0 \nL 2938 0 \nL 2938 2094 \nQ 2938 2591 2744 2837 \nQ 2550 3084 2163 3084 \nQ 1697 3084 1428 2787 \nQ 1159 2491 1159 1978 \nL 1159 0 \nL 581 0 \nL 581 3500 \nL 1159 3500 \nL 1159 2956 \nQ 1366 3272 1645 3428 \nQ 1925 3584 2291 3584 \nQ 2894 3584 3203 3211 \nQ 3513 2838 3513 2113 \nz\n\" id=\"DejaVuSans-6e\" transform=\"scale(0.015625)\"/>\n       <path d=\"M 581 4863 \nL 1159 4863 \nL 1159 1991 \nL 2875 3500 \nL 3609 3500 \nL 1753 1863 \nL 3688 0 \nL 2938 0 \nL 1159 1709 \nL 1159 0 \nL 581 0 \nL 581 4863 \nz\n\" id=\"DejaVuSans-6b\" transform=\"scale(0.015625)\"/>\n       <path d=\"M 3597 1894 \nL 3597 1613 \nL 953 1613 \nQ 991 1019 1311 708 \nQ 1631 397 2203 397 \nQ 2534 397 2845 478 \nQ 3156 559 3463 722 \nL 3463 178 \nQ 3153 47 2828 -22 \nQ 2503 -91 2169 -91 \nQ 1331 -91 842 396 \nQ 353 884 353 1716 \nQ 353 2575 817 3079 \nQ 1281 3584 2069 3584 \nQ 2775 3584 3186 3129 \nQ 3597 2675 3597 1894 \nz\nM 3022 2063 \nQ 3016 2534 2758 2815 \nQ 2500 3097 2075 3097 \nQ 1594 3097 1305 2825 \nQ 1016 2553 972 2059 \nL 3022 2063 \nz\n\" id=\"DejaVuSans-65\" transform=\"scale(0.015625)\"/>\n      </defs>\n      <use xlink:href=\"#DejaVuSans-53\"/>\n      <use x=\"63.476562\" xlink:href=\"#DejaVuSans-70\"/>\n      <use x=\"126.953125\" xlink:href=\"#DejaVuSans-72\"/>\n      <use x=\"168.066406\" xlink:href=\"#DejaVuSans-69\"/>\n      <use x=\"195.849609\" xlink:href=\"#DejaVuSans-6e\"/>\n      <use x=\"259.228516\" xlink:href=\"#DejaVuSans-6b\"/>\n      <use x=\"317.138672\" xlink:href=\"#DejaVuSans-6c\"/>\n      <use x=\"344.921875\" xlink:href=\"#DejaVuSans-65\"/>\n      <use x=\"406.445312\" xlink:href=\"#DejaVuSans-72\"/>\n     </g>\n    </g>\n   </g>\n   <g id=\"text_3\">\n    <g clip-path=\"url(#pb0980baf0c)\">\n     <!-- Rain -->\n     <g transform=\"translate(299.766795 119.23125)scale(0.12 -0.12)\">\n      <defs>\n       <path d=\"M 2841 2188 \nQ 3044 2119 3236 1894 \nQ 3428 1669 3622 1275 \nL 4263 0 \nL 3584 0 \nL 2988 1197 \nQ 2756 1666 2539 1819 \nQ 2322 1972 1947 1972 \nL 1259 1972 \nL 1259 0 \nL 628 0 \nL 628 4666 \nL 2053 4666 \nQ 2853 4666 3247 4331 \nQ 3641 3997 3641 3322 \nQ 3641 2881 3436 2590 \nQ 3231 2300 2841 2188 \nz\nM 1259 4147 \nL 1259 2491 \nL 2053 2491 \nQ 2509 2491 2742 2702 \nQ 2975 2913 2975 3322 \nQ 2975 3731 2742 3939 \nQ 2509 4147 2053 4147 \nL 1259 4147 \nz\n\" id=\"DejaVuSans-52\" transform=\"scale(0.015625)\"/>\n       <path d=\"M 2194 1759 \nQ 1497 1759 1228 1600 \nQ 959 1441 959 1056 \nQ 959 750 1161 570 \nQ 1363 391 1709 391 \nQ 2188 391 2477 730 \nQ 2766 1069 2766 1631 \nL 2766 1759 \nL 2194 1759 \nz\nM 3341 1997 \nL 3341 0 \nL 2766 0 \nL 2766 531 \nQ 2569 213 2275 61 \nQ 1981 -91 1556 -91 \nQ 1019 -91 701 211 \nQ 384 513 384 1019 \nQ 384 1609 779 1909 \nQ 1175 2209 1959 2209 \nL 2766 2209 \nL 2766 2266 \nQ 2766 2663 2505 2880 \nQ 2244 3097 1772 3097 \nQ 1472 3097 1187 3025 \nQ 903 2953 641 2809 \nL 641 3341 \nQ 956 3463 1253 3523 \nQ 1550 3584 1831 3584 \nQ 2591 3584 2966 3190 \nQ 3341 2797 3341 1997 \nz\n\" id=\"DejaVuSans-61\" transform=\"scale(0.015625)\"/>\n      </defs>\n      <use xlink:href=\"#DejaVuSans-52\"/>\n      <use x=\"67.232422\" xlink:href=\"#DejaVuSans-61\"/>\n      <use x=\"128.511719\" xlink:href=\"#DejaVuSans-69\"/>\n      <use x=\"156.294922\" xlink:href=\"#DejaVuSans-6e\"/>\n     </g>\n    </g>\n   </g>\n   <g id=\"text_4\">\n    <g clip-path=\"url(#pb0980baf0c)\">\n     <!-- WetGrass -->\n     <g transform=\"translate(145.938838 209.08249)scale(0.12 -0.12)\">\n      <defs>\n       <path d=\"M 213 4666 \nL 850 4666 \nL 1831 722 \nL 2809 4666 \nL 3519 4666 \nL 4500 722 \nL 5478 4666 \nL 6119 4666 \nL 4947 0 \nL 4153 0 \nL 3169 4050 \nL 2175 0 \nL 1381 0 \nL 213 4666 \nz\n\" id=\"DejaVuSans-57\" transform=\"scale(0.015625)\"/>\n       <path d=\"M 1172 4494 \nL 1172 3500 \nL 2356 3500 \nL 2356 3053 \nL 1172 3053 \nL 1172 1153 \nQ 1172 725 1289 603 \nQ 1406 481 1766 481 \nL 2356 481 \nL 2356 0 \nL 1766 0 \nQ 1100 0 847 248 \nQ 594 497 594 1153 \nL 594 3053 \nL 172 3053 \nL 172 3500 \nL 594 3500 \nL 594 4494 \nL 1172 4494 \nz\n\" id=\"DejaVuSans-74\" transform=\"scale(0.015625)\"/>\n       <path d=\"M 3809 666 \nL 3809 1919 \nL 2778 1919 \nL 2778 2438 \nL 4434 2438 \nL 4434 434 \nQ 4069 175 3628 42 \nQ 3188 -91 2688 -91 \nQ 1594 -91 976 548 \nQ 359 1188 359 2328 \nQ 359 3472 976 4111 \nQ 1594 4750 2688 4750 \nQ 3144 4750 3555 4637 \nQ 3966 4525 4313 4306 \nL 4313 3634 \nQ 3963 3931 3569 4081 \nQ 3175 4231 2741 4231 \nQ 1884 4231 1454 3753 \nQ 1025 3275 1025 2328 \nQ 1025 1384 1454 906 \nQ 1884 428 2741 428 \nQ 3075 428 3337 486 \nQ 3600 544 3809 666 \nz\n\" id=\"DejaVuSans-47\" transform=\"scale(0.015625)\"/>\n       <path d=\"M 2834 3397 \nL 2834 2853 \nQ 2591 2978 2328 3040 \nQ 2066 3103 1784 3103 \nQ 1356 3103 1142 2972 \nQ 928 2841 928 2578 \nQ 928 2378 1081 2264 \nQ 1234 2150 1697 2047 \nL 1894 2003 \nQ 2506 1872 2764 1633 \nQ 3022 1394 3022 966 \nQ 3022 478 2636 193 \nQ 2250 -91 1575 -91 \nQ 1294 -91 989 -36 \nQ 684 19 347 128 \nL 347 722 \nQ 666 556 975 473 \nQ 1284 391 1588 391 \nQ 1994 391 2212 530 \nQ 2431 669 2431 922 \nQ 2431 1156 2273 1281 \nQ 2116 1406 1581 1522 \nL 1381 1569 \nQ 847 1681 609 1914 \nQ 372 2147 372 2553 \nQ 372 3047 722 3315 \nQ 1072 3584 1716 3584 \nQ 2034 3584 2315 3537 \nQ 2597 3491 2834 3397 \nz\n\" id=\"DejaVuSans-73\" transform=\"scale(0.015625)\"/>\n      </defs>\n      <use xlink:href=\"#DejaVuSans-57\"/>\n      <use x=\"93.001953\" xlink:href=\"#DejaVuSans-65\"/>\n      <use x=\"154.525391\" xlink:href=\"#DejaVuSans-74\"/>\n      <use x=\"193.734375\" xlink:href=\"#DejaVuSans-47\"/>\n      <use x=\"271.224609\" xlink:href=\"#DejaVuSans-72\"/>\n      <use x=\"312.337891\" xlink:href=\"#DejaVuSans-61\"/>\n      <use x=\"373.617188\" xlink:href=\"#DejaVuSans-73\"/>\n      <use x=\"425.716797\" xlink:href=\"#DejaVuSans-73\"/>\n     </g>\n    </g>\n   </g>\n  </g>\n </g>\n <defs>\n  <clipPath id=\"pb0980baf0c\">\n   <rect height=\"217.44\" width=\"334.8\" x=\"7.2\" y=\"7.2\"/>\n  </clipPath>\n </defs>\n</svg>\n",
      "text/plain": [
       "<Figure size 432x288 with 1 Axes>"
      ]
     },
     "metadata": {},
     "output_type": "display_data"
    }
   ],
   "source": [
    "# Create the nodes\n",
    "cloudy = DiscreteNode(\"Cloudy\", \"state\", value_space=[0, 1])\n",
    "sprinkler = DiscreteNode(\"Sprinkler\", \"state\", value_space=[0, 1])\n",
    "rain = DiscreteNode(\"Rain\", \"state\", value_space=[0, 1])\n",
    "wetgrass = DiscreteNode(\"WetGrass\", \"state\", value_space=[0, 1])\n",
    "\n",
    "# Create the Bayesian Network\n",
    "qbn = QuantumBayesianNetwork()\n",
    "qbn.add_nodes([cloudy, sprinkler, rain, wetgrass])\n",
    "qbn.add_edges([(\"Cloudy\", \"Sprinkler\"), (\"Cloudy\", \"Rain\"), (\"Sprinkler\", \"WetGrass\"), (\"Rain\", \"WetGrass\")])\n",
    "qbn.draw()"
   ]
  },
  {
   "cell_type": "code",
   "execution_count": 3,
   "metadata": {},
   "outputs": [],
   "source": [
    "# Add data for node cloudy\n",
    "data = {\"Cloudy\": [0,1], \"Prob\": [0.5,0.5]}\n",
    "qbn.add_pt(\"Cloudy\", data)\n",
    "\n",
    "# Add data for node Sprinkler\n",
    "data = {\"Cloudy\": [0,0,1,1], \"Sprinkler\": [0,1,0,1], \"Prob\": [0.5,0.5,0.9,0.1]}\n",
    "qbn.add_pt(\"Sprinkler\", data)\n",
    "\n",
    "# Add data for node Cloudy\n",
    "data = {\"Cloudy\": [0,0,1,1], \"Rain\": [0,1,0,1], \"Prob\": [0.8,0.2,0.2,0.8]}\n",
    "qbn.add_pt(\"Rain\", data)\n",
    "\n",
    "# Add data for node WetGrass\n",
    "data = {\"Sprinkler\": [0,0,0,0,1,1,1,1], \"Rain\": [0,0,1,1,0,0,1,1], \"WetGrass\": [0,1,0,1,0,1,0,1], \"Prob\": [1,0,0.1,0.9,0.1,0.9,0.01,0.99]}\n",
    "qbn.add_pt(\"WetGrass\", data)"
   ]
  },
  {
   "cell_type": "code",
   "execution_count": 4,
   "metadata": {},
   "outputs": [],
   "source": [
    "qbn.initialize()"
   ]
  },
  {
   "cell_type": "code",
   "execution_count": 5,
   "metadata": {},
   "outputs": [
    {
     "data": {
      "text/plain": [
       "{'Cloudy': [0], 'Sprinkler': [1], 'Rain': [2], 'WetGrass': [3]}"
      ]
     },
     "execution_count": 5,
     "metadata": {},
     "output_type": "execute_result"
    }
   ],
   "source": [
    "qbn.rv_qubits"
   ]
  },
  {
   "cell_type": "code",
   "execution_count": 14,
   "metadata": {},
   "outputs": [
    {
     "data": {
      "text/plain": [
       "0.1"
      ]
     },
     "execution_count": 14,
     "metadata": {},
     "output_type": "execute_result"
    }
   ],
   "source": [
    "qbn.qubits_prob({3: 0, 2: 1, 1: 0}, \"WetGrass\")"
   ]
  },
  {
   "cell_type": "code",
   "execution_count": null,
   "metadata": {},
   "outputs": [],
   "source": []
  }
 ],
 "metadata": {
  "kernelspec": {
   "display_name": "Python 3.9.7 ('Thesis')",
   "language": "python",
   "name": "python3"
  },
  "language_info": {
   "codemirror_mode": {
    "name": "ipython",
    "version": 3
   },
   "file_extension": ".py",
   "mimetype": "text/x-python",
   "name": "python",
   "nbconvert_exporter": "python",
   "pygments_lexer": "ipython3",
   "version": "3.9.7"
  },
  "vscode": {
   "interpreter": {
    "hash": "4667db92b50b909313b95f3efb82863da51d4adc6f7a2bee07386b4c13650d43"
   }
  }
 },
 "nbformat": 4,
 "nbformat_minor": 4
}
