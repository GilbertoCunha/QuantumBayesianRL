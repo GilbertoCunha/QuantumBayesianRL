{
 "cells": [
  {
   "cell_type": "code",
   "execution_count": null,
   "metadata": {},
   "outputs": [],
   "source": [
    "%config InlineBackend.figure_format = \"svg\"\n",
    "\n",
    "import sys\n",
    "sys.path.append(\"../\")\n",
    "\n",
    "from src.networks.qbn_new import QuantumBayesianNetwork\n",
    "from src.networks.bn import BayesianNetwork\n",
    "from src.networks.nodes import DiscreteNode"
   ]
  },
  {
   "cell_type": "markdown",
   "metadata": {},
   "source": [
    "# Bayesian Network Class"
   ]
  },
  {
   "cell_type": "markdown",
   "metadata": {},
   "source": [
    "## Create Bayesian Network Structure"
   ]
  },
  {
   "cell_type": "markdown",
   "metadata": {},
   "source": [
    "Using the `BayesianNetwork` class defined in the `bn.py` file, we can define its structure by defining its nodes and edges. Its nodes should be defined using the `DiscreteNode` class, if one wishes to represent discrete random variables."
   ]
  },
  {
   "cell_type": "code",
   "execution_count": null,
   "metadata": {},
   "outputs": [],
   "source": [
    "# Create the nodes\n",
    "cloudy = DiscreteNode(\"Cloudy\", \"state\", value_space=[0, 1])\n",
    "sprinkler = DiscreteNode(\"Sprinkler\", \"state\", value_space=[0, 1])\n",
    "rain = DiscreteNode(\"Rain\", \"state\", value_space=[0, 1])\n",
    "wetgrass = DiscreteNode(\"WetGrass\", \"state\", value_space=[0, 1])\n",
    "\n",
    "# Create the Bayesian Network\n",
    "bn = BayesianNetwork()\n",
    "bn.add_nodes([cloudy, sprinkler, rain, wetgrass])\n",
    "bn.add_edges([(\"Cloudy\", \"Sprinkler\"), (\"Cloudy\", \"Rain\"), (\"Sprinkler\", \"WetGrass\"), (\"Rain\", \"WetGrass\")])\n",
    "bn.draw()"
   ]
  },
  {
   "cell_type": "markdown",
   "metadata": {},
   "source": [
    "## Populate Bayesian Network with data"
   ]
  },
  {
   "cell_type": "markdown",
   "metadata": {},
   "source": [
    "However, the above code only gives the `BayesianNetwork` its structure! We also need to feed it the Conditional Probability Tables (CPTs) for each node. This can be done by creating a dictionary that represents each CPT:"
   ]
  },
  {
   "cell_type": "code",
   "execution_count": null,
   "metadata": {},
   "outputs": [],
   "source": [
    "# Add data for node cloudy\n",
    "data = {\"Cloudy\": [0,1], \"Prob\": [0.5,0.5]}\n",
    "bn.add_pt(\"Cloudy\", data)\n",
    "\n",
    "# Add data for node Sprinkler\n",
    "data = {\"Cloudy\": [0,0,1,1], \"Sprinkler\": [0,1,0,1], \"Prob\": [0.5,0.5,0.9,0.1]}\n",
    "bn.add_pt(\"Sprinkler\", data)\n",
    "\n",
    "# Add data for node Cloudy\n",
    "data = {\"Cloudy\": [0,0,1,1], \"Rain\": [0,1,0,1], \"Prob\": [0.8,0.2,0.2,0.8]}\n",
    "bn.add_pt(\"Rain\", data)\n",
    "\n",
    "# Add data for node WetGrass\n",
    "data = {\"Sprinkler\": [0,0,0,0,1,1,1,1], \"Rain\": [0,0,1,1,0,0,1,1], \"WetGrass\": [0,1,0,1,0,1,0,1], \"Prob\": [1,0,0.1,0.9,0.1,0.9,0.01,0.99]}\n",
    "bn.add_pt(\"WetGrass\", data)"
   ]
  },
  {
   "cell_type": "markdown",
   "metadata": {},
   "source": [
    "## Apply sampling and get results"
   ]
  },
  {
   "cell_type": "markdown",
   "metadata": {},
   "source": [
    "Given that the network has been fully define, we can initialize it with the `initialize` method. This method lets the `BayesianNetwork` class define the correct node traversal order for performing inference."
   ]
  },
  {
   "cell_type": "code",
   "execution_count": null,
   "metadata": {},
   "outputs": [],
   "source": [
    "# Initialize the network\n",
    "bn.initialize()"
   ]
  },
  {
   "cell_type": "markdown",
   "metadata": {},
   "source": [
    "Finally, since we already fully defined the `BayesianNetwork`, we can start querying it for any distribution we like! The line bellow represents one possible query and uses the `rejection sampling` algorithm to perform inference:"
   ]
  },
  {
   "cell_type": "code",
   "execution_count": null,
   "metadata": {},
   "outputs": [],
   "source": [
    "bn.query(query=[\"Sprinkler\"], evidence={\"Cloudy\": 1}, n_samples=100)"
   ]
  },
  {
   "cell_type": "code",
   "execution_count": null,
   "metadata": {},
   "outputs": [],
   "source": [
    "# Query the Bayesian Network\n",
    "bn.query(query=[\"Cloudy\", \"WetGrass\"], evidence={\"Rain\": 1, \"Sprinkler\": 0}, n_samples=1000)"
   ]
  },
  {
   "cell_type": "markdown",
   "metadata": {},
   "source": [
    "## Quantum Bayesian Networks"
   ]
  },
  {
   "cell_type": "markdown",
   "metadata": {},
   "source": [
    "This first section's purpose is to represent the full joint distribution of the above bayesian network in a quantum circuit, so that we can get samples from the joint distribution just by performing measurements in the circuit."
   ]
  },
  {
   "cell_type": "markdown",
   "metadata": {},
   "source": [
    "A joint distribution in a BN with random variables $\\mathcal{X} = \\{X_1, \\dots, X_n\\}$ taking values $x_1, \\dots, x_n$ can be mathematically described by the following equation:"
   ]
  },
  {
   "cell_type": "markdown",
   "metadata": {},
   "source": [
    "$$ \\mathbb{P} \\left[ x_1, \\dots, x_n \\right] = \\prod_{i=1}^{n} \\mathbb{P} \\left[ x_i \\vert \\text{parents}(x_i) \\right] $$"
   ]
  },
  {
   "cell_type": "markdown",
   "metadata": {},
   "source": [
    "By translating this equation to the example above, we get:\n",
    "\n",
    "$$ \\mathbb{P} \\left[ c, r, s, w \\right] = \\mathbb{P} \\left[ c \\right] \\mathbb{P} \\left[ r \\vert c \\right] \\mathbb{P} \\left[ s \\vert c \\right] \\mathbb{P} \\left[ w \\vert r, s \\right] $$"
   ]
  },
  {
   "cell_type": "markdown",
   "metadata": {},
   "source": [
    "In a general case, translating a BN into a quantum circuit involves applying a controlled rotation gate $\\hat{U}_i$ on the target qubit of the random variable $X_i$, controlled by the qubits of the random variables that are parents of the target qubit, $\\text{parents}(X_i)$, for each combination of values the parents random variables can take. This ensures we encode every entry of the CPTs in the BN into the quantum circuit."
   ]
  },
  {
   "cell_type": "markdown",
   "metadata": {},
   "source": [
    "Let's consider an example. For the WetGrass node in the BN above, we will need to apply 4 of these rotation gates, since this node has two parents and each of them can take two possible values. \n",
    "\n",
    "Say we want to encode a controlled rotation for WetGrass $w$ when $s = 1$ and $r = 0$. To do so, we want to apply that rotation when $\\vert s \\rangle = \\vert 1 \\rangle$ and $\\vert r \\rangle = \\vert 0 \\rangle$."
   ]
  },
  {
   "cell_type": "markdown",
   "metadata": {},
   "source": [
    "This gate should perform a controlled $RY(\\theta_i)$ rotation about the y-axis. Suppose $P_i = \\{P_{i1}, \\dots, P_{im}\\}$ are the parent random variables of the random variable $X_i$ and that we are considering a rotation where they take the values $p_{i1}, \\dots, p_{im}$. The angle $\\theta_i$ is given by the expression:\n",
    "\n",
    "$$ \\theta_i = 2 \\arctan \\left( \\sqrt{ \\frac{ \\mathbb{P} \\left[ X_i = 1 \\vert P_{i1} = p_{i1}, \\dots, P_{im} = p_{im} \\right] }{ \\mathbb{P} \\left[ X_i = 0 \\vert P_{i1} = p_{i1}, \\dots, P_{im} = p_{im} \\right] } } \\right) $$"
   ]
  },
  {
   "cell_type": "code",
   "execution_count": null,
   "metadata": {},
   "outputs": [],
   "source": [
    "%config InlineBackend.figure_format = \"svg\"\n",
    "\n",
    "import sys\n",
    "sys.path.append(\"../\")\n",
    "\n",
    "from src.networks.qbn_new import QuantumBayesianNetwork\n",
    "from src.networks.bn import BayesianNetwork\n",
    "from src.networks.nodes import DiscreteNode"
   ]
  },
  {
   "cell_type": "code",
   "execution_count": null,
   "metadata": {},
   "outputs": [],
   "source": [
    "# Create the nodes\n",
    "cloudy = DiscreteNode(\"Cloudy\", \"state\", value_space=[0, 1])\n",
    "sprinkler = DiscreteNode(\"Sprinkler\", \"state\", value_space=[0, 1])\n",
    "rain = DiscreteNode(\"Rain\", \"state\", value_space=[0, 1])\n",
    "wetgrass = DiscreteNode(\"WetGrass\", \"state\", value_space=[0, 1])\n",
    "\n",
    "# Create the Bayesian Network\n",
    "qbn = QuantumBayesianNetwork()\n",
    "qbn.add_nodes([cloudy, sprinkler, rain, wetgrass])\n",
    "qbn.add_edges([(\"Cloudy\", \"Sprinkler\"), (\"Cloudy\", \"Rain\"), (\"Sprinkler\", \"WetGrass\"), (\"Rain\", \"WetGrass\")])\n",
    "qbn.draw()"
   ]
  },
  {
   "cell_type": "code",
   "execution_count": null,
   "metadata": {},
   "outputs": [],
   "source": [
    "# Add data for node cloudy\n",
    "data = {\"Cloudy\": [0,1], \"Prob\": [0.5,0.5]}\n",
    "qbn.add_pt(\"Cloudy\", data)\n",
    "\n",
    "# Add data for node Sprinkler\n",
    "data = {\"Cloudy\": [0,0,1,1], \"Sprinkler\": [0,1,0,1], \"Prob\": [0.5,0.5,0.9,0.1]}\n",
    "qbn.add_pt(\"Sprinkler\", data)\n",
    "\n",
    "# Add data for node Cloudy\n",
    "data = {\"Cloudy\": [0,0,1,1], \"Rain\": [0,1,0,1], \"Prob\": [0.8,0.2,0.2,0.8]}\n",
    "qbn.add_pt(\"Rain\", data)\n",
    "\n",
    "# Add data for node WetGrass\n",
    "data = {\"Sprinkler\": [0,0,0,0,1,1,1,1], \"Rain\": [0,0,1,1,0,0,1,1], \"WetGrass\": [0,1,0,1,0,1,0,1], \"Prob\": [1,0,0.1,0.9,0.1,0.9,0.01,0.99]}\n",
    "qbn.add_pt(\"WetGrass\", data)"
   ]
  },
  {
   "cell_type": "code",
   "execution_count": null,
   "metadata": {},
   "outputs": [],
   "source": [
    "qbn.initialize()"
   ]
  },
  {
   "cell_type": "code",
   "execution_count": null,
   "metadata": {},
   "outputs": [],
   "source": [
    "qbn.encoding_circ.draw(output=\"mpl\")"
   ]
  },
  {
   "cell_type": "code",
   "execution_count": null,
   "metadata": {},
   "outputs": [],
   "source": [
    "qbn.qubits_prob({3: 0, 2: 1, 1: 0}, \"WetGrass\")"
   ]
  },
  {
   "cell_type": "code",
   "execution_count": null,
   "metadata": {},
   "outputs": [],
   "source": []
  }
 ],
 "metadata": {
  "kernelspec": {
   "display_name": "Python 3.9.7 ('Thesis')",
   "language": "python",
   "name": "python3"
  },
  "language_info": {
   "codemirror_mode": {
    "name": "ipython",
    "version": 3
   },
   "file_extension": ".py",
   "mimetype": "text/x-python",
   "name": "python",
   "nbconvert_exporter": "python",
   "pygments_lexer": "ipython3",
   "version": "3.9.7"
  },
  "vscode": {
   "interpreter": {
    "hash": "4667db92b50b909313b95f3efb82863da51d4adc6f7a2bee07386b4c13650d43"
   }
  }
 },
 "nbformat": 4,
 "nbformat_minor": 4
}
