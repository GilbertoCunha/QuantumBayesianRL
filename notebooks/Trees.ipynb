{
 "cells": [
  {
   "cell_type": "code",
   "execution_count": 1,
   "id": "b1115e6e",
   "metadata": {},
   "outputs": [],
   "source": [
    "import sys\n",
    "sys.path.append(\"../\")\n",
    "\n",
    "from src.rl_algorithms.pomdp_lookahead import build_tree\n",
    "from src.trees.tree import Tree"
   ]
  },
  {
   "cell_type": "markdown",
   "id": "fd4d6936",
   "metadata": {},
   "source": [
    "## Instantiating the lookahead tree"
   ]
  },
  {
   "cell_type": "code",
   "execution_count": 2,
   "id": "e172cd92",
   "metadata": {},
   "outputs": [],
   "source": [
    "# Define tree parameters\n",
    "initial_observation = {}\n",
    "action_space = {\"action\": [0, 1]}\n",
    "observation_space = {\"observation\": [0, 1]}\n",
    "horizon = 2"
   ]
  },
  {
   "cell_type": "code",
   "execution_count": 3,
   "id": "7ef4f2ef",
   "metadata": {},
   "outputs": [],
   "source": [
    "# Build the tree\n",
    "tree = build_tree({}, action_space, observation_space, horizon)"
   ]
  },
  {
   "cell_type": "code",
   "execution_count": null,
   "id": "8fca56ff-78a8-4be1-bd40-65d8c4bfddf4",
   "metadata": {},
   "outputs": [],
   "source": []
  }
 ],
 "metadata": {
  "kernelspec": {
   "display_name": "Python 3 (ipykernel)",
   "language": "python",
   "name": "python3"
  },
  "language_info": {
   "codemirror_mode": {
    "name": "ipython",
    "version": 3
   },
   "file_extension": ".py",
   "mimetype": "text/x-python",
   "name": "python",
   "nbconvert_exporter": "python",
   "pygments_lexer": "ipython3",
   "version": "3.9.7"
  },
  "vscode": {
   "interpreter": {
    "hash": "50c1577026dbf5384446f55c4cd3c69deffafcb0c30b87db3f18132a40cdf908"
   }
  }
 },
 "nbformat": 4,
 "nbformat_minor": 5
}
